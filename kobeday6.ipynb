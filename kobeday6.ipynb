{
 "cells": [
  {
   "cell_type": "code",
   "execution_count": null,
   "metadata": {},
   "outputs": [],
   "source": [
    "【Day 6】\n",
    "函数关键字\n",
    "函数的定义\n",
    "函数参数与作用域\n",
    "函数返回值\n",
    "【鉴于第五天内容较难，第6天内容减少，请同学们自行补充第五天知识体系】\n",
    "--------------------------------------\n",
    "【作业构想】\n",
    "实现random.sample方法\n",
    "实现Max方法\n",
    "实现判断两个字符串是否相等的方法\n",
    "-------------------------------------\n",
    "【作业提交时间】\n",
    "2019年1月31日24：00\n",
    "注意：未完成者将会被清退\n",
    "------------------------------------\n",
    "【点评】\n",
    "完成时间：2019年2月1日12：00\n",
    "注意：未完成竟会被清退"
   ]
  },
  {
   "cell_type": "code",
   "execution_count": null,
   "metadata": {},
   "outputs": [],
   "source": [
    "# python关键字以及含义，用法"
   ]
  },
  {
   "cell_type": "code",
   "execution_count": null,
   "metadata": {},
   "outputs": [],
   "source": [
    "# 1 1.and , or "
   ]
  },
  {
   "cell_type": "code",
   "execution_count": null,
   "metadata": {},
   "outputs": [],
   "source": [
    "'''\n",
    "and , or 为逻辑关系用语，Python具有短路逻辑，False and 返回 False \n",
    "不执行后面的语句， True or 直接返回True，不执行后面的语句 \n",
    "'''"
   ]
  },
  {
   "cell_type": "code",
   "execution_count": null,
   "metadata": {},
   "outputs": [],
   "source": [
    "2.del 删除变量"
   ]
  },
  {
   "cell_type": "code",
   "execution_count": 1,
   "metadata": {},
   "outputs": [],
   "source": [
    "a=1 #对象1被变量a引用\n",
    "b=a#对象1被变量b引用\n",
    "c=a#对象1被变量c引用"
   ]
  },
  {
   "cell_type": "code",
   "execution_count": 2,
   "metadata": {},
   "outputs": [],
   "source": [
    "del a# 删除变量a，解除对象1被变量a引用"
   ]
  },
  {
   "cell_type": "code",
   "execution_count": 3,
   "metadata": {},
   "outputs": [],
   "source": [
    "del b#删除变量b，解除对象1被变量b引用"
   ]
  },
  {
   "cell_type": "code",
   "execution_count": 6,
   "metadata": {},
   "outputs": [
    {
     "ename": "NameError",
     "evalue": "name 'a' is not defined",
     "output_type": "error",
     "traceback": [
      "\u001b[1;31m---------------------------------------------------------------------------\u001b[0m",
      "\u001b[1;31mNameError\u001b[0m                                 Traceback (most recent call last)",
      "\u001b[1;32m<ipython-input-6-bca0e2660b9f>\u001b[0m in \u001b[0;36m<module>\u001b[1;34m\u001b[0m\n\u001b[1;32m----> 1\u001b[1;33m \u001b[0mprint\u001b[0m\u001b[1;33m(\u001b[0m\u001b[0ma\u001b[0m\u001b[1;33m)\u001b[0m\u001b[1;33m\u001b[0m\u001b[1;33m\u001b[0m\u001b[0m\n\u001b[0m",
      "\u001b[1;31mNameError\u001b[0m: name 'a' is not defined"
     ]
    }
   ],
   "source": [
    "print(a)"
   ]
  },
  {
   "cell_type": "code",
   "execution_count": null,
   "metadata": {},
   "outputs": [],
   "source": [
    "#3.from        from引用模块时会用到，例："
   ]
  },
  {
   "cell_type": "code",
   "execution_count": 7,
   "metadata": {},
   "outputs": [],
   "source": [
    "from sys import argv"
   ]
  },
  {
   "cell_type": "code",
   "execution_count": null,
   "metadata": {},
   "outputs": [],
   "source": [
    "# 4.golbal          golbal为全局变量，但当单个函数中出现同一变量名时，在单个函数中为局部变量"
   ]
  },
  {
   "cell_type": "code",
   "execution_count": 14,
   "metadata": {},
   "outputs": [],
   "source": [
    "num=1"
   ]
  },
  {
   "cell_type": "code",
   "execution_count": 15,
   "metadata": {},
   "outputs": [
    {
     "name": "stdout",
     "output_type": "stream",
     "text": [
      "1\n"
     ]
    }
   ],
   "source": [
    "def fun():\n",
    "    num=123\n",
    "    print(num)\n",
    "fun\n",
    "print(num)\n",
    "#此时没有使用global关键字，无法对全局变量num进行修改，运行结果如下"
   ]
  },
  {
   "cell_type": "code",
   "execution_count": null,
   "metadata": {},
   "outputs": [],
   "source": [
    "#  想要对全局变量进行修改，要用到关键字global！"
   ]
  },
  {
   "cell_type": "code",
   "execution_count": 16,
   "metadata": {},
   "outputs": [
    {
     "name": "stdout",
     "output_type": "stream",
     "text": [
      "123\n",
      "123\n"
     ]
    }
   ],
   "source": [
    "num = 1\n",
    "def fun():\n",
    "     global num\n",
    "     num = 123\n",
    "     print(num)\n",
    "\n",
    "fun()\n",
    "print(num)"
   ]
  },
  {
   "cell_type": "code",
   "execution_count": 11,
   "metadata": {},
   "outputs": [],
   "source": [
    "q=66"
   ]
  },
  {
   "cell_type": "code",
   "execution_count": null,
   "metadata": {},
   "outputs": [],
   "source": [
    "5.while, for…in… \n",
    "\n",
    "均为循环语句，使用while时要注意成立条件，防止陷入死循环 \n",
    "for in 遍历"
   ]
  },
  {
   "cell_type": "code",
   "execution_count": null,
   "metadata": {},
   "outputs": [],
   "source": [
    "6.assert \n",
    "\n",
    "断言，声明其布尔值必须为真的判定，如果发生异常就说明表达示为假。 \n",
    "可以理解assert断言语句为raise-if-not，用来测试表示式，其返回值为假，就会触发异常。"
   ]
  },
  {
   "cell_type": "code",
   "execution_count": 12,
   "metadata": {},
   "outputs": [],
   "source": [
    "assert 1==1"
   ]
  },
  {
   "cell_type": "code",
   "execution_count": 13,
   "metadata": {},
   "outputs": [
    {
     "ename": "AssertionError",
     "evalue": "",
     "output_type": "error",
     "traceback": [
      "\u001b[1;31m---------------------------------------------------------------------------\u001b[0m",
      "\u001b[1;31mAssertionError\u001b[0m                            Traceback (most recent call last)",
      "\u001b[1;32m<ipython-input-13-730332727407>\u001b[0m in \u001b[0;36m<module>\u001b[1;34m\u001b[0m\n\u001b[1;32m----> 1\u001b[1;33m \u001b[1;32massert\u001b[0m \u001b[1;36m1\u001b[0m\u001b[1;33m==\u001b[0m\u001b[1;36m2\u001b[0m\u001b[1;33m\u001b[0m\u001b[1;33m\u001b[0m\u001b[0m\n\u001b[0m",
      "\u001b[1;31mAssertionError\u001b[0m: "
     ]
    }
   ],
   "source": [
    "assert 1==2 #报错"
   ]
  },
  {
   "cell_type": "code",
   "execution_count": null,
   "metadata": {},
   "outputs": [],
   "source": [
    "7.pass \n",
    "pass是空语句，为了保证程序结构的完整性， \n",
    "pass不做任何事情，一般用作 占位语句 \n",
    "当你编写程序部分内容还没想好，可用pass语句占位"
   ]
  },
  {
   "cell_type": "code",
   "execution_count": null,
   "metadata": {},
   "outputs": [],
   "source": [
    "8.yield \n",
    "yield的意思是生产，返回了一个生成器对象，每个生成器只能使用一次\n",
    "一个带有 yield的函数就是一个generation，他和普通函数不同，生成一个generator看起来像函数调用，但不会执行任何函数代码，\n",
    "直到对其调用.next()（在 for 循环中会自动调用 next()）才开始执行 \n",
    "虽然执行流程仍按函数的流程执行，但每执行到一个 yield 语句就会中断，并返回一个迭代值，下次执行时从 yield 的下一个语句继续执行。\n",
    "看起来就好像一个函数在正常执行的过程中被 yield 中断了数次，每次中断都会通过 yield 返回当前的迭代值。"
   ]
  },
  {
   "cell_type": "code",
   "execution_count": null,
   "metadata": {},
   "outputs": [],
   "source": [
    "9.break 与 contiue \n",
    "Python break语句用来终止循环，用在while和for循环中！！直接跳出 整个 循环 \n",
    "嵌套循环，break语句将停止执行最深层的循环，并开始执行下一行代码"
   ]
  },
  {
   "cell_type": "code",
   "execution_count": null,
   "metadata": {},
   "outputs": [],
   "source": [
    "10.try except finally\n",
    "如果当try后的语句执行时发生异常，python就跳回到try并执行第一个匹配该异常的except子句，\n",
    "异常处理完毕，控制流就通过整个try语句（除非在处理异常时又引发新的异常）。 \n",
    "如果在try后的语句里发生了异常，却没有匹配的except子句，异常将被递交到上层的try，\n",
    "或者到程序的最上层（这样将结束程序，并打印缺省的出错信息）。 \n",
    "如果在try子句执行时没有发生异常，python将执行else语句后的语句（如果有else的话），然后控制流通过整个try语句。"
   ]
  },
  {
   "cell_type": "code",
   "execution_count": null,
   "metadata": {},
   "outputs": [],
   "source": [
    "11.exec–eval–execfile \n",
    "exec 用来执行储存在字符串或文件中的Python语句 \n",
    "exec是一条语句将字符串str当成有效的python代码来执行 \n",
    "eval与execfile是pytho内置函数 \n",
    "eval(str[globals[locals]])函数将字符串str当成有效的python表达式来求值，并提供返回计算值"
   ]
  },
  {
   "cell_type": "code",
   "execution_count": null,
   "metadata": {},
   "outputs": [],
   "source": [
    "# 函数定义"
   ]
  },
  {
   "cell_type": "code",
   "execution_count": null,
   "metadata": {},
   "outputs": [],
   "source": [
    "'''\n",
    "Python 函数\n",
    "函数是组织好的，可重复使用的，用来实现单一，或相关联功能的代码段。\n",
    "函数能提高应用的模块性，和代码的重复利用率。你已经知道Python提供了许多内建函数，比如print()。\n",
    "但你也可以自己创建函数，这被叫做用户自定义函数\n",
    "'''"
   ]
  },
  {
   "cell_type": "code",
   "execution_count": null,
   "metadata": {},
   "outputs": [],
   "source": [
    "'''\n",
    "定义一个函数\n",
    "你可以定义一个由自己想要功能的函数，以下是简单的规则：\n",
    "函数代码块以 def 关键词开头，后接函数标识符名称和圆括号()。\n",
    "任何传入参数和自变量必须放在圆括号中间。圆括号之间可以用于定义参数。\n",
    "函数的第一行语句可以选择性地使用文档字符串—用于存放函数说明。\n",
    "函数内容以冒号起始，并且缩进。\n",
    "return [表达式] 结束函数，选择性地返回一个值给调用方。不带表达式的return相当于返回 None。\n",
    "'''"
   ]
  },
  {
   "cell_type": "code",
   "execution_count": 17,
   "metadata": {},
   "outputs": [],
   "source": [
    "def hello():\n",
    "    print ('hello world')"
   ]
  },
  {
   "cell_type": "code",
   "execution_count": 18,
   "metadata": {},
   "outputs": [
    {
     "name": "stdout",
     "output_type": "stream",
     "text": [
      "hello world\n"
     ]
    }
   ],
   "source": [
    "hello()"
   ]
  },
  {
   "cell_type": "code",
   "execution_count": 19,
   "metadata": {},
   "outputs": [],
   "source": [
    "# 向函数传递信息\n",
    "只需稍作修改，就可以让函数greet_user() 不仅向用户显示Hello! ，还将用户的名字用作抬头。\n",
    "为此，可在函数定义def greet_user() 的括号内添加username 。通\n",
    "过在这里添加username ，就可让函数接受你给username 指定的任何值\n",
    "。现在，这个函数要求你调用它时给username 指定一个值。调用greet_user() 时，可将一个名字\n",
    "传递给它，如下所示："
   ]
  },
  {
   "cell_type": "code",
   "execution_count": 24,
   "metadata": {},
   "outputs": [
    {
     "name": "stdout",
     "output_type": "stream",
     "text": [
      "hello,Jesse!\n"
     ]
    }
   ],
   "source": [
    "def greet_user(username):\n",
    "    '''显示简单的问候语'''\n",
    "    print('hello,'+username.title()+'!')\n",
    "greet_user('jesse')"
   ]
  },
  {
   "cell_type": "code",
   "execution_count": 25,
   "metadata": {},
   "outputs": [],
   "source": [
    "# 实参和和形参"
   ]
  },
  {
   "cell_type": "code",
   "execution_count": null,
   "metadata": {},
   "outputs": [],
   "source": [
    "'''\n",
    "前面定义函数greet_user() 时，要求给变量username 指定一个值。调用这个函数并提供这种信息（人名）时，它将打印相应的问候语。\n",
    "在函数greet_user() 的定义中，变量username 是一个形参 ——函数完成其工作所需的一项信息。\n",
    "在代码greet_user('jesse') 中，值'jesse' 是一个实参 。实参是\n",
    "调用函数时传递给函数的信息。我们调用函数时，将要让函数使用的信息放在括号内。\n",
    "在greet_user('jesse') 中，将实参'jesse' 传递给了函数greet_user() ，这个\n",
    "值被存储在形参username 中\n",
    "'''"
   ]
  },
  {
   "cell_type": "code",
   "execution_count": 26,
   "metadata": {},
   "outputs": [],
   "source": [
    "# 位置实参"
   ]
  },
  {
   "cell_type": "code",
   "execution_count": 28,
   "metadata": {},
   "outputs": [
    {
     "name": "stdout",
     "output_type": "stream",
     "text": [
      "\n",
      "I have a hamster.\n",
      "My hamster's name is Harry.\n"
     ]
    }
   ],
   "source": [
    "def describe_pet(animal_type,pet_name):\n",
    "    '''显示宠物的信息'''\n",
    "    print(\"\\nI have a \" + animal_type + \".\")\n",
    "    print(\"My \" + animal_type + \"'s name is \" + pet_name.title() + \".\")\n",
    "describe_pet('hamster','harry')\n",
    "\n"
   ]
  },
  {
   "cell_type": "code",
   "execution_count": null,
   "metadata": {},
   "outputs": [],
   "source": [
    "'''\n",
    "默认值\n",
    "编写函数时，可给每个形参指定默认值 。在调用函数中给形参提供了实参时，Python将使用指定的实参值；\n",
    "否则，将使用形参的默认值。因此，给形参指定默认值后，可在函数\n",
    "调用中省略相应的实参。使用默认值可简化函数调用，还可清楚地指出函数的典型用法。\n",
    "例如，如果你发现调用describe_pet() 时，描述的大都是小狗，就可将形参animal_type 的默认值设置为'dog' 。这样，\n",
    "调用describe_pet() 来描述小狗时，就可不\n",
    "提供这种信息\n",
    "'''"
   ]
  },
  {
   "cell_type": "code",
   "execution_count": 33,
   "metadata": {},
   "outputs": [
    {
     "name": "stdout",
     "output_type": "stream",
     "text": [
      "\n",
      "i have adog.\n",
      "my dog 'name is' Jorden.\n"
     ]
    }
   ],
   "source": [
    "def describe_name(pet_name,animal_type='dog'):\n",
    "    '''显示宠物的信息'''\n",
    "    print('\\ni have a' +animal_type+ '.')\n",
    "    print('my '+ animal_type +\" 'name is' \"+pet_name.title() +\".\")\n",
    "describe_name('jorden')"
   ]
  },
  {
   "cell_type": "code",
   "execution_count": null,
   "metadata": {},
   "outputs": [],
   "source": [
    "# 函数调用\n",
    "定义一个函数：给了函数一个名称，指定了函数里包含的参数，和代码块结构。\n",
    "这个函数的基本结构完成以后，你可以通过另一个函数调用执行，也可以直接从 Python 命令提示符执行。\n",
    "如下实例调用了 printme() 函数："
   ]
  },
  {
   "cell_type": "code",
   "execution_count": 41,
   "metadata": {},
   "outputs": [
    {
     "name": "stdout",
     "output_type": "stream",
     "text": [
      "我要调用用户自定义函数!\n",
      "再次调用同一函数\n"
     ]
    }
   ],
   "source": [
    "def printme( str ):\n",
    "   # 打印任何传入的字符串\n",
    "   print (str)\n",
    "   return\n",
    "# 调用函数\n",
    "printme(\"我要调用用户自定义函数!\")\n",
    "printme(\"再次调用同一函数\")"
   ]
  },
  {
   "cell_type": "code",
   "execution_count": null,
   "metadata": {},
   "outputs": [],
   "source": [
    "# 参数传递\n",
    "# 在 python 中，类型属于对象，变量是没有类型的：\n"
   ]
  },
  {
   "cell_type": "code",
   "execution_count": 42,
   "metadata": {},
   "outputs": [],
   "source": [
    "a=[1,2,3]\n",
    "\n",
    "a=\"Runoob\""
   ]
  },
  {
   "cell_type": "code",
   "execution_count": 43,
   "metadata": {},
   "outputs": [
    {
     "data": {
      "text/plain": [
       "'\\n以上代码中，[1,2,3] 是 List 类型，\"Runoob\" 是 String 类型，\\n而变量 a 是没有类型，她仅仅是一个对象的引用（一个指针），\\n可以是指向 List 类型对象，也可以是指向 String 类型对象。\\n'"
      ]
     },
     "execution_count": 43,
     "metadata": {},
     "output_type": "execute_result"
    }
   ],
   "source": [
    "'''\n",
    "以上代码中，[1,2,3] 是 List 类型，\"Runoob\" 是 String 类型，\n",
    "而变量 a 是没有类型，她仅仅是一个对象的引用（一个指针），\n",
    "可以是指向 List 类型对象，也可以是指向 String 类型对象。\n",
    "'''"
   ]
  },
  {
   "cell_type": "code",
   "execution_count": null,
   "metadata": {},
   "outputs": [],
   "source": [
    "# 可更改(mutable)与不可更改(immutable)对象"
   ]
  },
  {
   "cell_type": "code",
   "execution_count": null,
   "metadata": {},
   "outputs": [],
   "source": [
    "在 python 中，strings, tuples, 和 numbers 是不可更改的对象，而 list,dict 等则是可以修改的对象。\n",
    "不可变类型：变量赋值 a=5 后再赋值 a=10，这里实际是新生成一个 int 值对象 10，再让 a 指向它，而 5 被丢弃，不是改变a的值，相当于新生成了a。\n",
    "可变类型：变量赋值 la=[1,2,3,4] 后再赋值 la[2]=5 则是将 list la 的第三个元素值更改，本身la没有动，只是其内部的一部分值被修改了。\n",
    "python 函数的参数传递：\n",
    "不可变类型：类似 c++ 的值传递，如 整数、字符串、元组。如fun（a），传递的只是a的值，没有影响a对象本身。比如在 fun（a）内部修改 a 的值，只是修改另一个复制的对象，不会影响 a 本身。\n",
    "可变类型：类似 c++ 的引用传递，如 列表，字典。如 fun（la），则是将 la 真正的传过去，修改后fun外部的la也会受影响\n",
    "python 中一切都是对象，严格意义我们不能说值传递还是引用传递，我们应该说传不可变对象和传可变对象。"
   ]
  },
  {
   "cell_type": "code",
   "execution_count": 46,
   "metadata": {},
   "outputs": [
    {
     "name": "stdout",
     "output_type": "stream",
     "text": [
      "2\n"
     ]
    }
   ],
   "source": [
    "def changeint(a):\n",
    "    a=2\n",
    "b=2\n",
    "changeint(b)\n",
    "print(b)\n",
    "    "
   ]
  },
  {
   "cell_type": "code",
   "execution_count": null,
   "metadata": {},
   "outputs": [],
   "source": [
    "'''\n",
    "传可变对象实例\n",
    "可变对象在函数里修改了参数，那么在调用这个函数的函数里，原始的参数也被改变了。例如：\n",
    "'''"
   ]
  },
  {
   "cell_type": "code",
   "execution_count": 47,
   "metadata": {},
   "outputs": [
    {
     "name": "stdout",
     "output_type": "stream",
     "text": [
      "函数内取值:  [10, 20, 30, [1, 2, 3, 4]]\n",
      "函数外取值:  [10, 20, 30, [1, 2, 3, 4]]\n"
     ]
    }
   ],
   "source": [
    "# 可写函数说明\n",
    "def changeme( mylist ):\n",
    "   \"修改传入的列表\"\n",
    "   mylist.append([1,2,3,4])\n",
    "   print (\"函数内取值: \", mylist)\n",
    "   return\n",
    " \n",
    "# 调用changeme函数\n",
    "mylist = [10,20,30]\n",
    "changeme( mylist )\n",
    "print (\"函数外取值: \", mylist)"
   ]
  },
  {
   "cell_type": "markdown",
   "metadata": {},
   "source": [
    "参数\n",
    "以下是调用函数时可使用的正式参数类型：\n",
    "必需参数\n",
    "关键字参数\n",
    "默认参数\n",
    "不定长参数"
   ]
  },
  {
   "cell_type": "markdown",
   "metadata": {},
   "source": [
    "'''\n",
    "必需参数\n",
    "必需参数须以正确的顺序传入函数。调用时的数量必须和声明时的一样。\n",
    "调用printme()函数，你必须传入一个参数，不然会出现语法错误：\n",
    "'''"
   ]
  },
  {
   "cell_type": "code",
   "execution_count": 49,
   "metadata": {},
   "outputs": [
    {
     "ename": "SyntaxError",
     "evalue": "unexpected EOF while parsing (<ipython-input-49-814d484637d9>, line 9)",
     "output_type": "error",
     "traceback": [
      "\u001b[1;36m  File \u001b[1;32m\"<ipython-input-49-814d484637d9>\"\u001b[1;36m, line \u001b[1;32m9\u001b[0m\n\u001b[1;33m    printme(\u001b[0m\n\u001b[1;37m            ^\u001b[0m\n\u001b[1;31mSyntaxError\u001b[0m\u001b[1;31m:\u001b[0m unexpected EOF while parsing\n"
     ]
    }
   ],
   "source": [
    " \n",
    "#可写函数说明\n",
    "def printme( str ):\n",
    "   \"打印任何传入的字符串\"\n",
    "   print (str)\n",
    "   return\n",
    " \n",
    "#调用printme函数\n",
    "printme(）"
   ]
  },
  {
   "cell_type": "code",
   "execution_count": null,
   "metadata": {},
   "outputs": [],
   "source": [
    "关键字参数\n",
    "关键字参数和函数调用关系紧密，函数调用使用关键字参数来确定传入的参数值。\n",
    "使用关键字参数允许函数调用时参数的顺序与声明时不一致，因为 Python 解释器能够用参数名匹配参数值。\n",
    "以下实例在函数 printme() 调用时使用参数名："
   ]
  },
  {
   "cell_type": "code",
   "execution_count": 50,
   "metadata": {},
   "outputs": [
    {
     "name": "stdout",
     "output_type": "stream",
     "text": [
      "菜鸟教程\n"
     ]
    }
   ],
   "source": [
    "def printme(str):\n",
    "    '打印任何传入的参数'\n",
    "    print(str)\n",
    "    return\n",
    "printme(str='菜鸟教程')"
   ]
  },
  {
   "cell_type": "code",
   "execution_count": 59,
   "metadata": {},
   "outputs": [],
   "source": [
    "def printinfo(name,age):\n",
    "    \"打印任何传入的字符串\"\n",
    "    print(\"名字\",name)\n",
    "    print(\"年龄\",age)\n",
    "    return"
   ]
  },
  {
   "cell_type": "code",
   "execution_count": 60,
   "metadata": {},
   "outputs": [
    {
     "name": "stdout",
     "output_type": "stream",
     "text": [
      "小王八 999\n"
     ]
    }
   ],
   "source": [
    "print('小王八',999)"
   ]
  },
  {
   "cell_type": "code",
   "execution_count": null,
   "metadata": {},
   "outputs": [],
   "source": [
    "#默认参数\n",
    "#调用函数时，如果没有传递参数，则会使用默认参数。以下实例中如果没有传入 age 参数，则使用默认值："
   ]
  },
  {
   "cell_type": "code",
   "execution_count": 61,
   "metadata": {},
   "outputs": [
    {
     "name": "stdout",
     "output_type": "stream",
     "text": [
      "名字:  runoob\n",
      "年龄:  50\n",
      "------------------------\n",
      "名字:  runoob\n",
      "年龄:  35\n"
     ]
    }
   ],
   "source": [
    "#可写函数说明\n",
    "def printinfo( name, age = 35 ):\n",
    "   \"打印任何传入的字符串\"\n",
    "   print (\"名字: \", name)\n",
    "   print (\"年龄: \", age)\n",
    "   return\n",
    " \n",
    "#调用printinfo函数\n",
    "printinfo( age=50, name=\"runoob\" )\n",
    "print (\"------------------------\")\n",
    "printinfo( name=\"runoob\" )"
   ]
  },
  {
   "cell_type": "code",
   "execution_count": null,
   "metadata": {},
   "outputs": [],
   "source": [
    "#不定长参数 你可能需要一个函数能处理比当初声明时更多的参数。这些参数叫做不定长参数，和上述 2 种参数不同，声明时不会命名。基本语法如下："
   ]
  },
  {
   "cell_type": "code",
   "execution_count": null,
   "metadata": {},
   "outputs": [],
   "source": [
    "# 加了星号 * 的参数会以元组(tuple)的形式导入，存放所有未命名的变量参数。"
   ]
  },
  {
   "cell_type": "code",
   "execution_count": 66,
   "metadata": {},
   "outputs": [],
   "source": [
    "def printinfo(arg1,*vartuple):\n",
    "    print('输入')\n",
    "    print(arg1)\n",
    "    print(*vartuple)"
   ]
  },
  {
   "cell_type": "code",
   "execution_count": 69,
   "metadata": {},
   "outputs": [
    {
     "name": "stdout",
     "output_type": "stream",
     "text": [
      "输入\n",
      "10\n",
      "10 60 10\n"
     ]
    }
   ],
   "source": [
    "printinfo(10,10,60,10)"
   ]
  },
  {
   "cell_type": "code",
   "execution_count": null,
   "metadata": {},
   "outputs": [],
   "source": [
    "'''\n",
    "还有一种就是参数带两个星号 **基本语法如下：\n",
    "def functionname([formal_args,] **var_args_dict ):\n",
    "   \"函数_文档字符串\"\n",
    "   function_suite\n",
    "   return [expression]\n",
    "加了两个星号 ** 的参数会以字典的形式导入。\n",
    "'''"
   ]
  },
  {
   "cell_type": "code",
   "execution_count": 99,
   "metadata": {},
   "outputs": [],
   "source": [
    "def printinf(arg1,**dic):\n",
    "    print(arg1)\n",
    "    print(dic)"
   ]
  },
  {
   "cell_type": "code",
   "execution_count": 100,
   "metadata": {},
   "outputs": [
    {
     "name": "stdout",
     "output_type": "stream",
     "text": [
      "2\n",
      "{'a': 1, 'b': 3}\n"
     ]
    }
   ],
   "source": [
    "printinf(2, a=1,b=3)"
   ]
  },
  {
   "cell_type": "code",
   "execution_count": null,
   "metadata": {},
   "outputs": [],
   "source": [
    "'''\n",
    "匿名函数\n",
    "python 使用 lambda 来创建匿名函数。\n",
    "所谓匿名，意即不再使用 def 语句这样标准的形式定义一个函数。\n",
    "lambda 只是一个表达式，函数体比 def 简单很多。\n",
    "lambda的主体是一个表达式，而不是一个代码块。仅仅能在lambda表达式中封装有限的逻辑进去。\n",
    "lambda 函数拥有自己的命名空间，且不能访问自己参数列表之外或全局命名空间里的参数。\n",
    "虽然lambda函数看起来只能写一行，却不等同于C或C++的内联函数，后者的目的是调用小函数时不占用栈内存从而增加运行效率。\n",
    "'''"
   ]
  },
  {
   "cell_type": "code",
   "execution_count": 101,
   "metadata": {},
   "outputs": [
    {
     "name": "stdout",
     "output_type": "stream",
     "text": [
      "相加后的值为 :  30\n",
      "相加后的值为 :  40\n"
     ]
    }
   ],
   "source": [
    "# 可写函数说明\n",
    "sum = lambda arg1, arg2: arg1 + arg2\n",
    " \n",
    "# 调用sum函数\n",
    "print (\"相加后的值为 : \", sum( 10, 20 ))\n",
    "print (\"相加后的值为 : \", sum( 20, 20 ))"
   ]
  },
  {
   "cell_type": "code",
   "execution_count": null,
   "metadata": {},
   "outputs": [],
   "source": [
    "return语句\n",
    "return [表达式] 语句用于退出函数，选择性地向调用方返回一个表达式。不带参数值的return语句返回None。\n",
    "之前的例子都没有示范如何返回数值，以下实例演示了 return 语句的用法："
   ]
  },
  {
   "cell_type": "code",
   "execution_count": 102,
   "metadata": {},
   "outputs": [
    {
     "name": "stdout",
     "output_type": "stream",
     "text": [
      "函数内 :  30\n",
      "函数外 :  30\n"
     ]
    }
   ],
   "source": [
    "# 可写函数说明\n",
    "def sum( arg1, arg2 ):\n",
    "   # 返回2个参数的和.\"\n",
    "   total = arg1 + arg2\n",
    "   print (\"函数内 : \", total)\n",
    "   return total\n",
    " \n",
    "# 调用sum函数\n",
    "total = sum( 10, 20 )\n",
    "print (\"函数外 : \", total)"
   ]
  },
  {
   "cell_type": "code",
   "execution_count": null,
   "metadata": {},
   "outputs": [],
   "source": [
    "变量作用域\n",
    "Python 中，程序的变量并不是在哪个位置都可以访问的，访问权限决定于这个变量是在哪里赋值的。\n",
    "变量的作用域决定了在哪一部分程序可以访问哪个特定的变量名称。Python的作用域一共有4种，分别是：\n",
    "L （Local） 局部作用域\n",
    "E （Enclosing） 闭包函数外的函数中\n",
    "G （Global） 全局作用域\n",
    "B （Built-in） 内建作用域\n",
    "以 L –> E –> G –>B 的规则查找，即：在局部找不到，便会去局部外的局部找（例如闭包），再找不到就会去全局找，再者去内建中找。"
   ]
  },
  {
   "cell_type": "code",
   "execution_count": 103,
   "metadata": {},
   "outputs": [],
   "source": [
    "#作用域"
   ]
  },
  {
   "cell_type": "code",
   "execution_count": null,
   "metadata": {},
   "outputs": [],
   "source": [
    "'''\n",
    "在Python程序中创建、改变、查找变量名时，\n",
    "都是在一个保存变量名的空间中进行，我们称之为命名空间，也被称之为作用域。\n",
    "python的作用域是静态的，在源代码中变量名被赋值的位置决定了该变量能被访问的范围。\n",
    "即Python变量的作用域由变量所在源代码中的位置决定。\n",
    "'''"
   ]
  },
  {
   "cell_type": "code",
   "execution_count": null,
   "metadata": {},
   "outputs": [],
   "source": [
    "就作用域而言，Python与C有着很大的区别，在Python中并不是所有的语句块中都会产生作用域。\n",
    "只有当变量在Module(模块)、Class(类)、def(函数)中定义的时候，才会有作用域的概念。看下面的代码："
   ]
  },
  {
   "cell_type": "code",
   "execution_count": 104,
   "metadata": {},
   "outputs": [
    {
     "ename": "SyntaxError",
     "evalue": "Missing parentheses in call to 'print'. Did you mean print(variable)? (<ipython-input-104-5b1f2b7214ef>, line 3)",
     "output_type": "error",
     "traceback": [
      "\u001b[1;36m  File \u001b[1;32m\"<ipython-input-104-5b1f2b7214ef>\"\u001b[1;36m, line \u001b[1;32m3\u001b[0m\n\u001b[1;33m    print variable\u001b[0m\n\u001b[1;37m                 ^\u001b[0m\n\u001b[1;31mSyntaxError\u001b[0m\u001b[1;31m:\u001b[0m Missing parentheses in call to 'print'. Did you mean print(variable)?\n"
     ]
    }
   ],
   "source": [
    "def func():\n",
    "    variable = 100\n",
    "    print variable\n",
    "print variable"
   ]
  },
  {
   "cell_type": "markdown",
   "metadata": {},
   "source": [
    "作用域中定义的变量，一般只在作用域中有效。 需要注意的是：在if-elif-else、for-else、while、try-except\\try-finally等关键字的语句块中并不会产成作用域。\n",
    "看下面的代码："
   ]
  },
  {
   "cell_type": "code",
   "execution_count": 106,
   "metadata": {},
   "outputs": [
    {
     "name": "stdout",
     "output_type": "stream",
     "text": [
      "100\n",
      "******\n",
      "100\n"
     ]
    }
   ],
   "source": [
    "if True:\n",
    "    variable = 100\n",
    "    print (variable)\n",
    "print (\"******\")\n",
    "print (variable)"
   ]
  },
  {
   "cell_type": "code",
   "execution_count": null,
   "metadata": {},
   "outputs": [],
   "source": [
    "#作用域的类型"
   ]
  },
  {
   "cell_type": "code",
   "execution_count": null,
   "metadata": {},
   "outputs": [],
   "source": [
    "L(local)局部作用域\n",
    "\n",
    "局部变量：包含在def关键字定义的语句块中，即在函数中定义的变量。每当函数被调用时都会创建一个新的局部作用域。\n",
    "Python中也有递归，即自己调用自己，每次调用都会创建一个新的局部命名空间。\n",
    "在函数内部的变量声明，除非特别的声明为全局变量，否则均默认为局部变量。有些情况需要在函数内部定义全局变量，\n",
    "这时可以使用global关键字来声明变量的作用域为全局。局部变量域就像一个 栈，仅仅是暂时的存在，依赖创建该局部作用域的函数是否处于活动的状态。所以，一般建议尽量少定义全局变量，因为全局变量在模块文件运行的过程中会一直存在，占用内存空间。\n",
    "注意：如果需要在函数内部对全局变量赋值，需要在函数内部通过global语句声明该变量为全局变量。"
   ]
  },
  {
   "cell_type": "code",
   "execution_count": null,
   "metadata": {},
   "outputs": [],
   "source": [
    "E(enclosing)嵌套作用域\n",
    "\n",
    "E也包含在def关键字中，E和L是相对的，E相对于更上层的函数而言也是L。与L的区别在于，\n",
    "对一个函数而言，L是定义在此函数内部的局部作用域，\n",
    "而E是定义在此函数的上一层父级函数的局部作用域。主要是为了实现Python的闭包，而增加的实现。"
   ]
  },
  {
   "cell_type": "code",
   "execution_count": null,
   "metadata": {},
   "outputs": [],
   "source": [
    "G(global)全局作用域\n",
    "\n",
    "即在模块层次中定义的变量，每一个模块都是一个全局作用域。也就是说，\n",
    "在模块文件顶层声明的变量具有全局作用域，从外部开来，模块的全局变量就是一个模块对象的属性。\n",
    "注意：全局作用域的作用范围仅限于单个模块文件内"
   ]
  },
  {
   "cell_type": "code",
   "execution_count": null,
   "metadata": {},
   "outputs": [],
   "source": [
    "(built-in)内置作用域\n",
    "\n",
    "系统内固定模块里定义的变量，如预定义在builtin 模块内的变量"
   ]
  },
  {
   "cell_type": "code",
   "execution_count": 107,
   "metadata": {},
   "outputs": [],
   "source": [
    "# 函数返回值"
   ]
  },
  {
   "cell_type": "code",
   "execution_count": null,
   "metadata": {},
   "outputs": [],
   "source": [
    "#01 指定返回值与隐含返回值"
   ]
  },
  {
   "cell_type": "code",
   "execution_count": null,
   "metadata": {},
   "outputs": [],
   "source": [
    "'''\n",
    "函数体中 return 语句有指定返回值时返回的就是其值\n",
    "\n",
    "函数体中没有 return 语句时，函数运行结束会隐含返回一个 None 作为返回值，类型是 NoneType，与 return 、return None 等效，都是返回 None。\n",
    "'''"
   ]
  },
  {
   "cell_type": "code",
   "execution_count": 110,
   "metadata": {},
   "outputs": [
    {
     "name": "stdout",
     "output_type": "stream",
     "text": [
      "6\n",
      "9\n"
     ]
    }
   ],
   "source": [
    "#指定 return 返回值函数举例：\n",
    "def showplus(x):\n",
    "    print(x)\n",
    "    return x + 1\n",
    "     \n",
    "num = showplus(6)\n",
    "add = num + 2\n",
    "print(add)"
   ]
  },
  {
   "cell_type": "code",
   "execution_count": null,
   "metadata": {},
   "outputs": [],
   "source": [
    "#隐含 return None 举例："
   ]
  },
  {
   "cell_type": "code",
   "execution_count": 111,
   "metadata": {},
   "outputs": [
    {
     "name": "stdout",
     "output_type": "stream",
     "text": [
      "6\n",
      "None\n",
      "<class 'NoneType'>\n"
     ]
    }
   ],
   "source": [
    "def showplus(x):\n",
    "    print(x)\n",
    " \n",
    "num = showplus(6)\n",
    "print(num)\n",
    "print(type(num))"
   ]
  },
  {
   "cell_type": "code",
   "execution_count": null,
   "metadata": {},
   "outputs": [],
   "source": [
    "0x 02 return 语句位置与多条 return 语句\n",
    "\n",
    " \n",
    "\n",
    "python 函数使用 return 语句返回 \"返回值\"，可以将其赋给其它变量作其它的用处\n",
    "\n",
    "所有函数都有返回值，如果没有 return 语句，会隐式地调用 return None 作为返回值\n",
    "\n",
    "一个函数可以存在多条 return 语句，但只有一条可以被执行，如果没有一条 reutrn 语句被执行，同样会隐式调用 return None 作为返回值\n",
    "\n",
    "如果有必要，可以显式调用 return None 明确返回一个None(空值对象)作为返回值，可以简写为 return，不过 python 中懒惰即美德，所以一般能不写就不写\n",
    "\n",
    "如果函数执行了 return 语句，函数会立刻返回，结束调用，return 之后的其它语句都不会被执行了"
   ]
  },
  {
   "cell_type": "code",
   "execution_count": 112,
   "metadata": {},
   "outputs": [
    {
     "name": "stdout",
     "output_type": "stream",
     "text": [
      "6\n",
      "7\n"
     ]
    }
   ],
   "source": [
    "def showplus(x):\n",
    "    print(x)\n",
    "    return x + 1\n",
    "    print(x + 1)  #该语句会执行么\n",
    "\n",
    "print(showplus(6))\n",
    "\n"
   ]
  },
  {
   "cell_type": "code",
   "execution_count": null,
   "metadata": {},
   "outputs": [],
   "source": [
    "3 返回值类型\n",
    "\n",
    "无论定义的是返回什么类型，return 只能返回单值，但值可以存在多个元素。\n",
    "\n",
    "return [1,3,5] 是指返回一个列表，是一个列表对象，1,3,5 分别是这个列表的元素\n",
    "\n",
    "return 1,3,5 看似返回多个值，隐式地被Python封装成了一个元祖返回"
   ]
  },
  {
   "cell_type": "code",
   "execution_count": 113,
   "metadata": {},
   "outputs": [
    {
     "name": "stdout",
     "output_type": "stream",
     "text": [
      "3\n",
      "<class 'int'>\n"
     ]
    }
   ],
   "source": [
    "def fn():\n",
    "    return 3   #单值时，返回的是什么类型\n",
    "    \n",
    "print(fn())\n",
    "print(type(fn()))"
   ]
  },
  {
   "cell_type": "code",
   "execution_count": 114,
   "metadata": {},
   "outputs": [],
   "source": [
    " # 作业"
   ]
  },
  {
   "cell_type": "code",
   "execution_count": 115,
   "metadata": {},
   "outputs": [],
   "source": [
    "import random"
   ]
  },
  {
   "cell_type": "code",
   "execution_count": 117,
   "metadata": {},
   "outputs": [
    {
     "data": {
      "text/plain": [
       "['d', 'f', 'l', 'j', 's', 'f', 'd', 's', 'h']"
      ]
     },
     "execution_count": 117,
     "metadata": {},
     "output_type": "execute_result"
    }
   ],
   "source": [
    "a='abchdkjsfldlsdfjksdhfjdshfjds'\n",
    "random.sample(a,9)"
   ]
  },
  {
   "cell_type": "code",
   "execution_count": 118,
   "metadata": {},
   "outputs": [
    {
     "data": {
      "text/plain": [
       "3"
      ]
     },
     "execution_count": 118,
     "metadata": {},
     "output_type": "execute_result"
    }
   ],
   "source": [
    "max(1,2,3)"
   ]
  },
  {
   "cell_type": "code",
   "execution_count": 123,
   "metadata": {},
   "outputs": [
    {
     "name": "stdout",
     "output_type": "stream",
     "text": [
      "Max character: y\n",
      "Max character: x\n"
     ]
    }
   ],
   "source": [
    "str = \"this is really a string example....wow!!!\";\n",
    "print(\"Max character: \" + max(str))\n",
    "\n",
    "str = \"this is a string example....wow!!!\";\n",
    "print (\"Max character: \" + max(str))"
   ]
  },
  {
   "cell_type": "code",
   "execution_count": null,
   "metadata": {},
   "outputs": [],
   "source": [
    "#在python中，判断两个变量是否相等或一样，可以使用==或者is来判断；判断不一样可以使用 is not。"
   ]
  },
  {
   "cell_type": "code",
   "execution_count": 125,
   "metadata": {},
   "outputs": [],
   "source": [
    "a='f'"
   ]
  },
  {
   "cell_type": "code",
   "execution_count": 126,
   "metadata": {},
   "outputs": [],
   "source": [
    "b='f'"
   ]
  },
  {
   "cell_type": "code",
   "execution_count": 128,
   "metadata": {},
   "outputs": [
    {
     "data": {
      "text/plain": [
       "True"
      ]
     },
     "execution_count": 128,
     "metadata": {},
     "output_type": "execute_result"
    }
   ],
   "source": [
    "a==b"
   ]
  },
  {
   "cell_type": "code",
   "execution_count": 129,
   "metadata": {},
   "outputs": [
    {
     "data": {
      "text/plain": [
       "True"
      ]
     },
     "execution_count": 129,
     "metadata": {},
     "output_type": "execute_result"
    }
   ],
   "source": [
    "a is b"
   ]
  },
  {
   "cell_type": "code",
   "execution_count": 130,
   "metadata": {},
   "outputs": [
    {
     "data": {
      "text/plain": [
       "False"
      ]
     },
     "execution_count": 130,
     "metadata": {},
     "output_type": "execute_result"
    }
   ],
   "source": [
    "a is not b"
   ]
  },
  {
   "cell_type": "code",
   "execution_count": 131,
   "metadata": {},
   "outputs": [
    {
     "data": {
      "text/plain": [
       "False"
      ]
     },
     "execution_count": 131,
     "metadata": {},
     "output_type": "execute_result"
    }
   ],
   "source": [
    "a !=b"
   ]
  },
  {
   "cell_type": "code",
   "execution_count": null,
   "metadata": {},
   "outputs": [],
   "source": []
  }
 ],
 "metadata": {
  "kernelspec": {
   "display_name": "Python 3",
   "language": "python",
   "name": "python3"
  },
  "language_info": {
   "codemirror_mode": {
    "name": "ipython",
    "version": 3
   },
   "file_extension": ".py",
   "mimetype": "text/x-python",
   "name": "python",
   "nbconvert_exporter": "python",
   "pygments_lexer": "ipython3",
   "version": "3.7.1"
  }
 },
 "nbformat": 4,
 "nbformat_minor": 2
}
