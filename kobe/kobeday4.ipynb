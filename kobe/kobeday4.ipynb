{
 "cells": [
  {
   "cell_type": "code",
   "execution_count": null,
   "metadata": {},
   "outputs": [],
   "source": [
    "【Day 4】\n",
    "判断语句（要求掌握多条件判断）\n",
    "循环语句\n",
    "三目表达式\n",
    "容器\n",
    "可迭代对象\n",
    "迭代器\n",
    "生成器\n",
    "--------------------------------------\n",
    "【作业构想】\n",
    "学习代码200-300行\n",
    "【作业构想】\n",
    "学习代码200-300行\n",
    "请对方输入一个0-9之间的数字，进行检查，若不是数字提示：您输入的不是数字，请输入0-9间的数字，若数字不在0-9范围内，提示用户输入0-9之间的数字，直至用户输入正确。\n",
    "系统随机生成一个长度为3的数字列表，且列表中元素在0-9之间并且不相等。将用户输入与该列表进行比较，若为列表第一个元素，则荣获第一名，列表第二个元素，则荣获第二名，列表第三个名字，则荣获第三名，否则提示用户未得奖，输入1重新开始游戏，输入2则结束游戏。\n",
    "注意：每次游戏中列表中数字要求随机生成，每轮游戏都不相等。\n",
    "-------------------------------------\n",
    "【作业提交时间】\n",
    "2019年1月29日24：00\n",
    "注意：未完成者将会被清退\n",
    "------------------------------------\n"
   ]
  },
  {
   "cell_type": "markdown",
   "metadata": {},
   "source": [
    "# 判断语句（要求掌握多条件判断）"
   ]
  },
  {
   "cell_type": "markdown",
   "metadata": {},
   "source": [
    "# 1 条件测试"
   ]
  },
  {
   "cell_type": "code",
   "execution_count": 17,
   "metadata": {},
   "outputs": [],
   "source": [
    "# 1.1Python条件语句是通过一条或多条语句的执行结果（True或者False）来决定执行的代码块。可以通过下图来简单了解条件语句的执行过程"
   ]
  },
  {
   "cell_type": "code",
   "execution_count": 18,
   "metadata": {},
   "outputs": [
    {
     "data": {
      "text/plain": [
       "'\\nif 判断条件：\\n    执行语句……\\nelse：\\n    执行语句……\\n'"
      ]
     },
     "execution_count": 18,
     "metadata": {},
     "output_type": "execute_result"
    }
   ],
   "source": [
    "'''\n",
    "if 判断条件：\n",
    "    执行语句……\n",
    "else：\n",
    "    执行语句……\n",
    "'''"
   ]
  },
  {
   "cell_type": "code",
   "execution_count": 19,
   "metadata": {},
   "outputs": [
    {
     "name": "stdout",
     "output_type": "stream",
     "text": [
      "Audi\n",
      "BMW\n",
      "Saburaru\n",
      "Toyota\n"
     ]
    }
   ],
   "source": [
    "cars=['audi','bmw','saburaru','toyota']\n",
    "for car in cars:\n",
    "    if car =='bmw':\n",
    "        print(car.upper())\n",
    "    else:\n",
    "        print(car.title())        "
   ]
  },
  {
   "cell_type": "code",
   "execution_count": 20,
   "metadata": {},
   "outputs": [],
   "source": [
    "#1.2 条件测试"
   ]
  },
  {
   "cell_type": "code",
   "execution_count": 21,
   "metadata": {},
   "outputs": [],
   "source": [
    "# 每条if语句的核心都是一个值为True 或者是False表达式"
   ]
  },
  {
   "cell_type": "code",
   "execution_count": 22,
   "metadata": {},
   "outputs": [],
   "source": [
    "car='bmw'"
   ]
  },
  {
   "cell_type": "code",
   "execution_count": 23,
   "metadata": {},
   "outputs": [
    {
     "data": {
      "text/plain": [
       "True"
      ]
     },
     "execution_count": 23,
     "metadata": {},
     "output_type": "execute_result"
    }
   ],
   "source": [
    "car=='bmw'"
   ]
  },
  {
   "cell_type": "code",
   "execution_count": 26,
   "metadata": {},
   "outputs": [],
   "source": [
    " # 1.3 检查是否不相等"
   ]
  },
  {
   "cell_type": "code",
   "execution_count": 27,
   "metadata": {},
   "outputs": [],
   "source": [
    "#要判断两个值是否不等，可结合使用惊叹号和等号（!=），其中惊叹号表示不"
   ]
  },
  {
   "cell_type": "code",
   "execution_count": 32,
   "metadata": {},
   "outputs": [
    {
     "name": "stdout",
     "output_type": "stream",
     "text": [
      "大王八\n"
     ]
    }
   ],
   "source": [
    "a='小王八'\n",
    "if a!='王八':\n",
    "    print('大王八')\n",
    "\n"
   ]
  },
  {
   "cell_type": "code",
   "execution_count": null,
   "metadata": {},
   "outputs": [],
   "source": [
    "# 比较数字"
   ]
  },
  {
   "cell_type": "code",
   "execution_count": 33,
   "metadata": {},
   "outputs": [],
   "source": [
    "age=19"
   ]
  },
  {
   "cell_type": "code",
   "execution_count": 34,
   "metadata": {},
   "outputs": [
    {
     "data": {
      "text/plain": [
       "True"
      ]
     },
     "execution_count": 34,
     "metadata": {},
     "output_type": "execute_result"
    }
   ],
   "source": [
    "age==19"
   ]
  },
  {
   "cell_type": "code",
   "execution_count": 36,
   "metadata": {},
   "outputs": [
    {
     "name": "stdout",
     "output_type": "stream",
     "text": [
      "the answer is incorrect,please try again\n"
     ]
    }
   ],
   "source": [
    "answer=11\n",
    "if answer !=18:\n",
    "    print('the answer is incorrect,please try again')"
   ]
  },
  {
   "cell_type": "code",
   "execution_count": 37,
   "metadata": {},
   "outputs": [],
   "source": [
    "# 1.4 检查多个条件"
   ]
  },
  {
   "cell_type": "code",
   "execution_count": 38,
   "metadata": {},
   "outputs": [],
   "source": [
    "# 1 使用and检查多个条件 要检查两个都为True，可使用关键字and将两个条件和二唯一"
   ]
  },
  {
   "cell_type": "code",
   "execution_count": 39,
   "metadata": {},
   "outputs": [],
   "source": [
    "age_0=22"
   ]
  },
  {
   "cell_type": "code",
   "execution_count": 41,
   "metadata": {},
   "outputs": [],
   "source": [
    "age_1=18"
   ]
  },
  {
   "cell_type": "code",
   "execution_count": 42,
   "metadata": {},
   "outputs": [
    {
     "data": {
      "text/plain": [
       "False"
      ]
     },
     "execution_count": 42,
     "metadata": {},
     "output_type": "execute_result"
    }
   ],
   "source": [
    "age_1>=21 and age_1>=21"
   ]
  },
  {
   "cell_type": "code",
   "execution_count": 43,
   "metadata": {},
   "outputs": [
    {
     "data": {
      "text/plain": [
       "True"
      ]
     },
     "execution_count": 43,
     "metadata": {},
     "output_type": "execute_result"
    }
   ],
   "source": [
    "age_1>=10 and age_1>=16"
   ]
  },
  {
   "cell_type": "code",
   "execution_count": 44,
   "metadata": {},
   "outputs": [],
   "source": [
    "# 使用or也能检查多个条件，只要一个条件满足，就能通过整个测试。"
   ]
  },
  {
   "cell_type": "code",
   "execution_count": 45,
   "metadata": {},
   "outputs": [
    {
     "data": {
      "text/plain": [
       "True"
      ]
     },
     "execution_count": 45,
     "metadata": {},
     "output_type": "execute_result"
    }
   ],
   "source": [
    "age_3=11\n",
    "age_4=14\n",
    "age_3 >2 or age_4 >20"
   ]
  },
  {
   "cell_type": "code",
   "execution_count": 46,
   "metadata": {},
   "outputs": [],
   "source": [
    "# 要判断关键字是否包含在列表中，可以用关键字in"
   ]
  },
  {
   "cell_type": "code",
   "execution_count": 47,
   "metadata": {},
   "outputs": [],
   "source": [
    "a=['f','b','c','d']"
   ]
  },
  {
   "cell_type": "code",
   "execution_count": 48,
   "metadata": {},
   "outputs": [
    {
     "data": {
      "text/plain": [
       "True"
      ]
     },
     "execution_count": 48,
     "metadata": {},
     "output_type": "execute_result"
    }
   ],
   "source": [
    "'c' in a"
   ]
  },
  {
   "cell_type": "code",
   "execution_count": 52,
   "metadata": {},
   "outputs": [],
   "source": [
    "# 不在可以用 not in"
   ]
  },
  {
   "cell_type": "code",
   "execution_count": 53,
   "metadata": {},
   "outputs": [
    {
     "name": "stdout",
     "output_type": "stream",
     "text": [
      "the answer is wrong\n"
     ]
    }
   ],
   "source": [
    "if 'h' not in a:\n",
    "    print('the answer is wrong')"
   ]
  },
  {
   "cell_type": "code",
   "execution_count": null,
   "metadata": {},
   "outputs": [],
   "source": [
    "# if 语句"
   ]
  },
  {
   "cell_type": "code",
   "execution_count": 56,
   "metadata": {},
   "outputs": [
    {
     "name": "stdout",
     "output_type": "stream",
     "text": [
      "you are older enough to vote\n"
     ]
    }
   ],
   "source": [
    "age=20\n",
    "if age >=18:\n",
    "    print('you are older enough to vote')\n"
   ]
  },
  {
   "cell_type": "code",
   "execution_count": 57,
   "metadata": {},
   "outputs": [],
   "source": [
    "# if-else语句"
   ]
  },
  {
   "cell_type": "code",
   "execution_count": 58,
   "metadata": {},
   "outputs": [
    {
     "name": "stdout",
     "output_type": "stream",
     "text": [
      "sorry,you are too young to vote\n"
     ]
    }
   ],
   "source": [
    "age=17\n",
    "if age > 18:\n",
    "    print('you are enough to vote')\n",
    "else:\n",
    "    print('sorry,you are too young to vote')\n"
   ]
  },
  {
   "cell_type": "code",
   "execution_count": 60,
   "metadata": {},
   "outputs": [],
   "source": [
    "# if -elif-else语句 当需要检查的结果超过两个的时候，用if-elif-else语句"
   ]
  },
  {
   "cell_type": "code",
   "execution_count": 61,
   "metadata": {},
   "outputs": [],
   "source": [
    "# 举个例子"
   ]
  },
  {
   "cell_type": "code",
   "execution_count": 63,
   "metadata": {},
   "outputs": [
    {
     "data": {
      "text/plain": [
       "'\\n四岁以下免费\\n4-18岁收费5元\\n18（含以上）收费10元\\n'"
      ]
     },
     "execution_count": 63,
     "metadata": {},
     "output_type": "execute_result"
    }
   ],
   "source": [
    "'''\n",
    "四岁以下免费\n",
    "4-18岁收费5元\n",
    "18（含以上）收费10元\n",
    "'''"
   ]
  },
  {
   "cell_type": "code",
   "execution_count": 64,
   "metadata": {},
   "outputs": [
    {
     "name": "stdout",
     "output_type": "stream",
     "text": [
      "your admission cost is $5.\n"
     ]
    }
   ],
   "source": [
    "age =17\n",
    "if age < 4:\n",
    "    print('your admission cost is $0.')\n",
    "elif age <18:\n",
    "    print('your admission cost is $5.')\n",
    "else :\n",
    "    print('your admission cost is $10.')"
   ]
  },
  {
   "cell_type": "code",
   "execution_count": 67,
   "metadata": {},
   "outputs": [
    {
     "name": "stdout",
     "output_type": "stream",
     "text": [
      "your admission cost is $price\n"
     ]
    }
   ],
   "source": [
    "age =12\n",
    "if age <4:\n",
    "    price=0\n",
    "elif age <18:\n",
    "    price=5\n",
    "else:\n",
    "    price=10\n",
    "print('your admission cost is $' +'price')"
   ]
  },
  {
   "cell_type": "code",
   "execution_count": null,
   "metadata": {},
   "outputs": [],
   "source": [
    "# 测试多个条件"
   ]
  },
  {
   "cell_type": "code",
   "execution_count": 72,
   "metadata": {},
   "outputs": [
    {
     "name": "stdout",
     "output_type": "stream",
     "text": [
      "adding mushrooms.\n",
      "adding extra cheese\n",
      "\n",
      "FINSHED MAKING YOUR PIZZA\n"
     ]
    }
   ],
   "source": [
    "a=['mushrooms','extra cheese']\n",
    "if 'mushrooms' in a:\n",
    "    print('adding mushrooms.')\n",
    "if 'pepperroni' in a:\n",
    "    print('adding pepperroni')\n",
    "if 'extra cheese' in a:\n",
    "    print('adding extra cheese')\n",
    "print('\\nFINSHED MAKING YOUR PIZZA')"
   ]
  },
  {
   "cell_type": "code",
   "execution_count": 74,
   "metadata": {},
   "outputs": [],
   "source": [
    "# 使用if处理列表"
   ]
  },
  {
   "cell_type": "code",
   "execution_count": null,
   "metadata": {},
   "outputs": [],
   "source": [
    "#通过创建一个列表，在其中包含顾客点的配料，并使用一个循环来指出添加中的配料。可以提高效率"
   ]
  },
  {
   "cell_type": "code",
   "execution_count": 81,
   "metadata": {},
   "outputs": [
    {
     "name": "stdout",
     "output_type": "stream",
     "text": [
      "addingresquested_topping.\n",
      "addingresquested_topping.\n",
      "addingresquested_topping.\n",
      "\n",
      "finshed your pizza!\n"
     ]
    }
   ],
   "source": [
    "resquested_toppings=['mushrooms','green peppers','extra cheese']\n",
    "for resquested_topping in resquested_toppings:\n",
    "    print('adding' + 'resquested_topping' + '.')\n",
    "print('\\nfinshed your pizza!')\n",
    "        "
   ]
  },
  {
   "cell_type": "code",
   "execution_count": null,
   "metadata": {},
   "outputs": [],
   "source": [
    "# while循环语句 for循环用于针对集合中每一个元素都有一共代码块，而while循环不断地运行，直到条件不满足为止，"
   ]
  },
  {
   "cell_type": "code",
   "execution_count": 2,
   "metadata": {},
   "outputs": [
    {
     "name": "stdout",
     "output_type": "stream",
     "text": [
      "1\n",
      "2\n",
      "3\n",
      "4\n",
      "5\n"
     ]
    }
   ],
   "source": [
    "current_number=1\n",
    "while current_number<=5:\n",
    "    print(current_number)\n",
    "    current_number+=1\n",
    "    "
   ]
  },
  {
   "cell_type": "code",
   "execution_count": null,
   "metadata": {},
   "outputs": [],
   "source": [
    "# 让用户选择如何退出"
   ]
  },
  {
   "cell_type": "code",
   "execution_count": 7,
   "metadata": {},
   "outputs": [
    {
     "name": "stdout",
     "output_type": "stream",
     "text": [
      "\n",
      "Tell me someehing , and i will repeat it back to you:\n",
      "enter 'quit' to end the programquit\n",
      "quit\n"
     ]
    }
   ],
   "source": [
    "prompt='\\nTell me someehing , and i will repeat it back to you:'\n",
    "prompt+=\"\\nenter 'quit' to end the program\"\n",
    "message=\"\"\n",
    "while message!='quit':\n",
    "    message=input(prompt)\n",
    "    print(message)\n"
   ]
  },
  {
   "cell_type": "code",
   "execution_count": 9,
   "metadata": {},
   "outputs": [
    {
     "name": "stdout",
     "output_type": "stream",
     "text": [
      "the count is 0\n",
      "the count is 1\n",
      "the count is 2\n",
      "the count is 3\n",
      "the count is 4\n",
      "the count is 5\n",
      "the count is 6\n",
      "the count is 7\n",
      "the count is 8\n",
      "goodbye\n"
     ]
    }
   ],
   "source": [
    "count=0\n",
    "while (count <9):\n",
    "    print('the count is' ,count)\n",
    "    count+=1\n",
    "print('goodbye')\n"
   ]
  },
  {
   "cell_type": "code",
   "execution_count": null,
   "metadata": {},
   "outputs": [],
   "source": [
    "# 使用break退出循环"
   ]
  },
  {
   "cell_type": "code",
   "execution_count": 12,
   "metadata": {},
   "outputs": [
    {
     "name": "stdout",
     "output_type": "stream",
     "text": [
      "当前字母 p\n",
      "当前字母 y\n",
      "当前字母 t\n"
     ]
    }
   ],
   "source": [
    "for letter in 'python':\n",
    "    if letter == 'h':\n",
    "        break\n",
    "    print('当前字母',letter)"
   ]
  },
  {
   "cell_type": "code",
   "execution_count": 13,
   "metadata": {},
   "outputs": [
    {
     "name": "stdout",
     "output_type": "stream",
     "text": [
      "当前变量 10\n",
      "当前变量 9\n",
      "当前变量 8\n",
      "当前变量 7\n",
      "当前变量 6\n",
      "goodbye\n"
     ]
    }
   ],
   "source": [
    "var=10\n",
    "while var >0:\n",
    "    print('当前变量',var)\n",
    "    var=var-1\n",
    "    if var==5:\n",
    "        break\n",
    "print('goodbye')"
   ]
  },
  {
   "cell_type": "code",
   "execution_count": 14,
   "metadata": {},
   "outputs": [],
   "source": [
    "# Python continue 语句 continue 语句用来告诉Python跳过当前循环的剩余语句，然后继续进行下一轮循环。"
   ]
  },
  {
   "cell_type": "code",
   "execution_count": 18,
   "metadata": {},
   "outputs": [
    {
     "name": "stdout",
     "output_type": "stream",
     "text": [
      "当前字母 p\n",
      "当前字母 y\n",
      "当前字母 t\n",
      "当前字母 o\n",
      "当前字母 n\n"
     ]
    }
   ],
   "source": [
    "for letter in 'python':\n",
    "    if letter =='h':\n",
    "        continue\n",
    "    print('当前字母',letter)\n",
    "        "
   ]
  },
  {
   "cell_type": "code",
   "execution_count": 35,
   "metadata": {},
   "outputs": [
    {
     "name": "stdout",
     "output_type": "stream",
     "text": [
      "当前变量 9\n",
      "当前变量 8\n",
      "当前变量 7\n",
      "当前变量 6\n",
      "当前变量 4\n",
      "当前变量 3\n",
      "当前变量 2\n",
      "当前变量 1\n",
      "当前变量 0\n",
      "\n",
      "goodbye\n"
     ]
    }
   ],
   "source": [
    "var=10\n",
    "while var >0:\n",
    "    var-=1\n",
    "    if var == 5:\n",
    "        continue\n",
    "    print('当前变量',var)\n",
    "print('\\ngoodbye')\n"
   ]
  },
  {
   "cell_type": "code",
   "execution_count": null,
   "metadata": {},
   "outputs": [],
   "source": [
    "# Python 循环嵌套"
   ]
  },
  {
   "cell_type": "code",
   "execution_count": null,
   "metadata": {},
   "outputs": [],
   "source": [
    "#python for 循环嵌套语句"
   ]
  },
  {
   "cell_type": "code",
   "execution_count": null,
   "metadata": {},
   "outputs": [],
   "source": [
    "'''\n",
    "for iterating_var in sequence:\n",
    "   for iterating_var in sequence:\n",
    "      statements(s)\n",
    "   statements(s)\n",
    "'''"
   ]
  },
  {
   "cell_type": "code",
   "execution_count": 39,
   "metadata": {},
   "outputs": [
    {
     "name": "stdout",
     "output_type": "stream",
     "text": [
      "2  是素数\n",
      "3  是素数\n",
      "5  是素数\n",
      "7  是素数\n",
      "11  是素数\n",
      "13  是素数\n",
      "17  是素数\n",
      "19  是素数\n",
      "23  是素数\n",
      "29  是素数\n",
      "31  是素数\n",
      "37  是素数\n",
      "41  是素数\n",
      "43  是素数\n",
      "47  是素数\n",
      "53  是素数\n",
      "59  是素数\n",
      "61  是素数\n",
      "67  是素数\n",
      "71  是素数\n",
      "73  是素数\n",
      "79  是素数\n",
      "83  是素数\n",
      "89  是素数\n",
      "97  是素数\n",
      "Good bye!\n"
     ]
    }
   ],
   "source": [
    "i = 2\n",
    "while(i < 100):\n",
    "   j = 2\n",
    "   while(j <= (i/j)):\n",
    "      if not(i%j): break\n",
    "      j = j + 1\n",
    "   if (j > i/j) : print (i, \" 是素数\")\n",
    "   i = i + 1\n",
    " \n",
    "print (\"Good bye!\")"
   ]
  },
  {
   "cell_type": "code",
   "execution_count": null,
   "metadata": {},
   "outputs": [],
   "source": [
    "#Python中的三目表达式"
   ]
  },
  {
   "cell_type": "markdown",
   "metadata": {},
   "source": [
    "'''\n",
    "一般C系列语言，例如C#，三目运算都是“ ？：”的结构。 \n",
    "例如： \n",
    "res = (i > j ? true : false);\n",
    "\n",
    "但是在python中，使用的是if-else来实现的 \n",
    "res = True if i > j else 2; \n",
    "#如果条件为真的话，那么结果为前者，否则为后者\n",
    "'''"
   ]
  },
  {
   "cell_type": "code",
   "execution_count": null,
   "metadata": {},
   "outputs": [],
   "source": [
    "# 容器"
   ]
  },
  {
   "cell_type": "markdown",
   "metadata": {},
   "source": [
    "'''\n",
    "容器是一种把多个元素组织在一起的数据结构，容器中的元素可以逐个地迭代获取，可以用in, not in关键字判断元素是否包含在容器中。\n",
    "通常这类数据结构把所有的元素存储在内存中\n",
    "（也有一些特例，并不是所有的元素都放在内存，比如迭代器和生成器对象）在Python中，常见的容器对象有：\n",
    "'''"
   ]
  },
  {
   "cell_type": "markdown",
   "metadata": {},
   "source": [
    "'''\n",
    "list, deque, ….\n",
    "set, frozensets, ….\n",
    "dict, defaultdict, OrderedDict, Counter, ….\n",
    "tuple, namedtuple, …\n",
    "str\n",
    "'''"
   ]
  },
  {
   "cell_type": "code",
   "execution_count": 46,
   "metadata": {},
   "outputs": [],
   "source": [
    "#可迭代对象(iterable)"
   ]
  },
  {
   "cell_type": "code",
   "execution_count": null,
   "metadata": {},
   "outputs": [],
   "source": [
    "刚才说过，很多容器都是可迭代对象，此外还有更多的对象同样也是可迭代对象，比如处于打开状态的files，sockets等等。\n",
    "但凡是可以返回一个迭代器的对象都可称之为可迭代对象，听起来可能有点困惑，没关系，先看一个例子："
   ]
  },
  {
   "cell_type": "code",
   "execution_count": 51,
   "metadata": {},
   "outputs": [
    {
     "data": {
      "text/plain": [
       "1"
      ]
     },
     "execution_count": 51,
     "metadata": {},
     "output_type": "execute_result"
    }
   ],
   "source": [
    "x = [1, 2, 3]\n",
    "y = iter(x)\n",
    "z = iter(x)\n",
    "next(y)"
   ]
  },
  {
   "cell_type": "code",
   "execution_count": 53,
   "metadata": {},
   "outputs": [
    {
     "data": {
      "text/plain": [
       "2"
      ]
     },
     "execution_count": 53,
     "metadata": {},
     "output_type": "execute_result"
    }
   ],
   "source": [
    "next(y)"
   ]
  },
  {
   "cell_type": "code",
   "execution_count": 54,
   "metadata": {},
   "outputs": [
    {
     "data": {
      "text/plain": [
       "2"
      ]
     },
     "execution_count": 54,
     "metadata": {},
     "output_type": "execute_result"
    }
   ],
   "source": [
    "next(z)"
   ]
  },
  {
   "cell_type": "code",
   "execution_count": 56,
   "metadata": {},
   "outputs": [
    {
     "data": {
      "text/plain": [
       "list"
      ]
     },
     "execution_count": 56,
     "metadata": {},
     "output_type": "execute_result"
    }
   ],
   "source": [
    "type(x)"
   ]
  },
  {
   "cell_type": "code",
   "execution_count": 57,
   "metadata": {},
   "outputs": [
    {
     "data": {
      "text/plain": [
       "list_iterator"
      ]
     },
     "execution_count": 57,
     "metadata": {},
     "output_type": "execute_result"
    }
   ],
   "source": [
    "type(y)"
   ]
  },
  {
   "cell_type": "code",
   "execution_count": null,
   "metadata": {},
   "outputs": [],
   "source": [
    "'''\n",
    "这里x是一个可迭代对象，可迭代对象和容器一样是一种通俗的叫法，并不是指某种具体的数据类型，\n",
    "list是可迭代对象，dict是可迭代对象，set也是可迭代对象。\n",
    "y和z是两个独立的迭代器，迭代器内部持有一个状态，该状态用于记录当前迭代所在的位置，\n",
    "以方便下次迭代的时候获取正确的元素。迭代器有一种具体的迭代器类型，比如list_iterator，set_iterator。\n",
    "可迭代对象实现了__iter__方法，该方法返回一个迭代器对象。\n",
    "'''\n"
   ]
  },
  {
   "cell_type": "code",
   "execution_count": 47,
   "metadata": {},
   "outputs": [],
   "source": [
    "# 迭代器(iterator)"
   ]
  },
  {
   "cell_type": "markdown",
   "metadata": {},
   "source": [
    "那么什么迭代器呢？它是一个带状态的对象，他能在你调用next()方法的时候返回容器中的下一个值，\n",
    "任何实现了__iter__和__next__()（python2中实现next()）方法的对象都是迭代器，\n",
    "__iter__返回迭代器自身，__next__返回容器中的下一个值，如果容器中没有更多元素了，\n",
    "则抛出StopIteration异常，至于它们到底是如何实现的这并不重要。\n",
    "所以，迭代器就是实现了工厂模式的对象，它在你每次你询问要下一个值的时候给你返回。\n",
    "有很多关于迭代器的例子，比如itertools函数返回的都是迭代器对象"
   ]
  },
  {
   "cell_type": "code",
   "execution_count": 62,
   "metadata": {},
   "outputs": [],
   "source": [
    "#生成无限序列"
   ]
  },
  {
   "cell_type": "code",
   "execution_count": 58,
   "metadata": {},
   "outputs": [],
   "source": [
    "from itertools import count"
   ]
  },
  {
   "cell_type": "code",
   "execution_count": 59,
   "metadata": {},
   "outputs": [],
   "source": [
    "counter = count(start=13)"
   ]
  },
  {
   "cell_type": "code",
   "execution_count": 60,
   "metadata": {},
   "outputs": [
    {
     "data": {
      "text/plain": [
       "13"
      ]
     },
     "execution_count": 60,
     "metadata": {},
     "output_type": "execute_result"
    }
   ],
   "source": [
    "next(counter)"
   ]
  },
  {
   "cell_type": "code",
   "execution_count": 61,
   "metadata": {},
   "outputs": [
    {
     "data": {
      "text/plain": [
       "14"
      ]
     },
     "execution_count": 61,
     "metadata": {},
     "output_type": "execute_result"
    }
   ],
   "source": [
    "next(counter)"
   ]
  },
  {
   "cell_type": "code",
   "execution_count": null,
   "metadata": {},
   "outputs": [],
   "source": [
    "# 从一个有限序列中生成无限序列："
   ]
  },
  {
   "cell_type": "code",
   "execution_count": 64,
   "metadata": {},
   "outputs": [],
   "source": [
    "from itertools import cycle\n",
    "colors = cycle(['red', 'white', 'blue'])"
   ]
  },
  {
   "cell_type": "code",
   "execution_count": 65,
   "metadata": {},
   "outputs": [
    {
     "data": {
      "text/plain": [
       "'red'"
      ]
     },
     "execution_count": 65,
     "metadata": {},
     "output_type": "execute_result"
    }
   ],
   "source": [
    "next(colors)"
   ]
  },
  {
   "cell_type": "code",
   "execution_count": 66,
   "metadata": {},
   "outputs": [
    {
     "data": {
      "text/plain": [
       "'white'"
      ]
     },
     "execution_count": 66,
     "metadata": {},
     "output_type": "execute_result"
    }
   ],
   "source": [
    "next(colors)"
   ]
  },
  {
   "cell_type": "code",
   "execution_count": 67,
   "metadata": {},
   "outputs": [
    {
     "data": {
      "text/plain": [
       "'blue'"
      ]
     },
     "execution_count": 67,
     "metadata": {},
     "output_type": "execute_result"
    }
   ],
   "source": [
    "next(colors)"
   ]
  },
  {
   "cell_type": "markdown",
   "metadata": {},
   "source": [
    "#迭代器就像一个懒加载的工厂，等到有人需要的时候才给它生成值返回，没调用的时候就处于休眠状态等待下一次调用。"
   ]
  },
  {
   "cell_type": "code",
   "execution_count": null,
   "metadata": {},
   "outputs": [],
   "source": [
    "# 生成器(generator)"
   ]
  },
  {
   "cell_type": "code",
   "execution_count": null,
   "metadata": {},
   "outputs": [],
   "source": [
    "生成器算得上是Python语言中最吸引人的特性之一，生成器其实是一种特殊的迭代器，不过这种迭代器更加优雅。\n",
    "它不需要再像上面的类一样写__iter__()和__next__()方法了，只需要一个yiled关键字。 \n",
    "生成器一定是迭代器（反之不成立），因此任何生成器也是以一种懒加载的模式生成值。\n",
    "用生成器来实现斐波那契数列的例子是："
   ]
  },
  {
   "cell_type": "code",
   "execution_count": 73,
   "metadata": {},
   "outputs": [],
   "source": [
    "from itertools import islice"
   ]
  },
  {
   "cell_type": "code",
   "execution_count": 74,
   "metadata": {},
   "outputs": [],
   "source": [
    "def fib():\n",
    "    prev, curr = 0, 1\n",
    "    while True:\n",
    "        yield curr\n",
    "        prev, curr = curr, curr + prev"
   ]
  },
  {
   "cell_type": "code",
   "execution_count": 75,
   "metadata": {},
   "outputs": [],
   "source": [
    "f=fib()"
   ]
  },
  {
   "cell_type": "code",
   "execution_count": 76,
   "metadata": {},
   "outputs": [
    {
     "data": {
      "text/plain": [
       "[1, 1, 2, 3, 5, 8, 13, 21, 34, 55]"
      ]
     },
     "execution_count": 76,
     "metadata": {},
     "output_type": "execute_result"
    }
   ],
   "source": [
    "list(islice(f, 0, 10))"
   ]
  },
  {
   "cell_type": "markdown",
   "metadata": {},
   "source": [
    "'''\n",
    "fib就是一个普通的python函数，它特殊的地方在于函数体中没有return关键字，函数的返回值是一个生成器对象。\n",
    "当执行f=fib()返回的是一个生成器对象，此时函数体中的代码并不会执行，\n",
    "只有显示或隐示地调用next的时候才会真正执行里面的代码。\n",
    "'''"
   ]
  },
  {
   "cell_type": "code",
   "execution_count": null,
   "metadata": {},
   "outputs": [],
   "source": [
    "# 作业"
   ]
  },
  {
   "cell_type": "code",
   "execution_count": null,
   "metadata": {},
   "outputs": [],
   "source": [
    "请对方输入一个0-9之间的数字，进行检查，若不是数字提示：您输入的不是数字，请输入0-9间的数字，若数字不在0-9范围内，提示用户输入0-9之间的数字，直至用户输入正确。\n",
    "系统随机生成一个长度为3的数字列表，且列表中元素在0-9之间并且不相等。将用户输入与该列表进行比较，若为列表第一个元素，则荣获第一名，列表第二个元素，则荣获第二名，列表第三个名字，则荣获第三名，否则提示用户未得奖，输入1重新开始游戏，输入2则结束游戏。\n",
    "注意：每次游戏中列表中数字要求随机生成，每轮游戏都不相等。"
   ]
  },
  {
   "cell_type": "code",
   "execution_count": null,
   "metadata": {},
   "outputs": [],
   "source": [
    "import random\n",
    "start = 1\n",
    "while start != 2:\n",
    "    award = random.sample(range(9), 3)  #从range(9)中随机获取3个元素，作为一个片断返回\n",
    "    num = input(\"请输入0-9之间的一个数字：\")\n",
    "    while num.isdigit()==False:\n",
    "        num = input(\"请输入0-9之间的一个数字：\")\n",
    "    num=int(num)\n",
    "    while num>=9:\n",
    "        num = input(\"数字必须在0-9之间哦，请重新输入：\")\n",
    "    num=int(num)\n",
    "    if num == award[0]:\n",
    "        print(\"恭喜您荣获第一名\")\n",
    "    elif num == award[1]:\n",
    "        print(\"恭喜您荣获第二名\")\n",
    "    elif num == award[2]:\n",
    "        print(\"恭喜您荣获第二名\")\n",
    "    else:\n",
    "        print(\"很遗憾，未得奖\")\n",
    "    start = int(input('输入1重新开始游戏，输入2则结束游戏'))\n",
    "    if start == 2:\n",
    "        break"
   ]
  },
  {
   "cell_type": "code",
   "execution_count": null,
   "metadata": {},
   "outputs": [],
   "source": []
  },
  {
   "cell_type": "code",
   "execution_count": null,
   "metadata": {},
   "outputs": [],
   "source": []
  }
 ],
 "metadata": {
  "kernelspec": {
   "display_name": "Python 3",
   "language": "python",
   "name": "python3"
  },
  "language_info": {
   "codemirror_mode": {
    "name": "ipython",
    "version": 3
   },
   "file_extension": ".py",
   "mimetype": "text/x-python",
   "name": "python",
   "nbconvert_exporter": "python",
   "pygments_lexer": "ipython3",
   "version": "3.7.1"
  }
 },
 "nbformat": 4,
 "nbformat_minor": 2
}
