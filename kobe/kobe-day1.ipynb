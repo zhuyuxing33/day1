{
 "cells": [
  {
   "cell_type": "code",
   "execution_count": 1,
   "metadata": {},
   "outputs": [],
   "source": [
    "# 【Day 1】\n",
    "1.环境搭建\n",
    "anaconda环境配置\n",
    "解释器\n",
    "---------------------------\n",
    "python初体验\n",
    "print and input\n",
    "---------------------------\n",
    "python基础讲解\n",
    "python变量特性+命名规则\n",
    "注释方法\n",
    "python中“：”作用\n",
    "学会使用dir( )及和help( )\n",
    "import使用\n",
    "pep8介绍\n",
    "---------------------------\n",
    "python数值基本知识\n",
    "python中数值类型，int，float，bool，e记法等\n",
    "算数运算符\n",
    "逻辑运算符\n",
    "成员运算符\n",
    "身份运算符\n",
    "运算符优先级\n",
    "---------------------------\n",
    "string字符串\n",
    "定义及基本操作（+，*，读取方式）\n",
    "字符串相关方法\n",
    "字符串格式化问题"
   ]
  },
  {
   "cell_type": "code",
   "execution_count": null,
   "metadata": {},
   "outputs": [],
   "source": [
    "# python 变量特性与命名规则"
   ]
  },
  {
   "cell_type": "markdown",
   "metadata": {},
   "source": [
    "# 变量在程序中就是用一个变量名表示了，变量名必须是大小写英文、数字和_的组合，且不能用数字开头"
   ]
  },
  {
   "cell_type": "code",
   "execution_count": 2,
   "metadata": {},
   "outputs": [],
   "source": [
    "a=1 #变量为整数"
   ]
  },
  {
   "cell_type": "code",
   "execution_count": null,
   "metadata": {},
   "outputs": [],
   "source": [
    "kg=\"kevin garnett\" #变量为字符串"
   ]
  },
  {
   "cell_type": "code",
   "execution_count": 3,
   "metadata": {},
   "outputs": [],
   "source": [
    "kd=True#变量为布尔变量"
   ]
  },
  {
   "cell_type": "code",
   "execution_count": null,
   "metadata": {},
   "outputs": [],
   "source": [
    "# 在Python中，等号=是赋值语句，可以把任意数据类型赋值给变量，同一个变量可以反复赋值，而且可以是不同类型的变量"
   ]
  },
  {
   "cell_type": "code",
   "execution_count": 8,
   "metadata": {},
   "outputs": [
    {
     "name": "stdout",
     "output_type": "stream",
     "text": [
      "123\n",
      "ABC\n"
     ]
    }
   ],
   "source": [
    "a=123 #a是整数\n",
    "print(a)\n",
    "a='ABC' #a是布尔变量\n",
    "print(a)"
   ]
  },
  {
   "cell_type": "code",
   "execution_count": 15,
   "metadata": {},
   "outputs": [],
   "source": [
    "# 单行注释用#"
   ]
  },
  {
   "cell_type": "code",
   "execution_count": 16,
   "metadata": {},
   "outputs": [
    {
     "data": {
      "text/plain": [
       "'\\n这是多行注释,用三个括号\\n这是多行注释，用三个括号\\n这是多行注释，用三个括号\\n'"
      ]
     },
     "execution_count": 16,
     "metadata": {},
     "output_type": "execute_result"
    }
   ],
   "source": [
    "\"\"\"\n",
    "这是多行注释,用三个括号\n",
    "这是多行注释，用三个括号\n",
    "这是多行注释，用三个括号\n",
    "\"\"\""
   ]
  },
  {
   "cell_type": "code",
   "execution_count": null,
   "metadata": {},
   "outputs": [],
   "source": [
    "# \":\" 用法\n"
   ]
  },
  {
   "cell_type": "markdown",
   "metadata": {},
   "source": [
    "函数，循环，条件，类定义等后面都是跟着一个block， block需要缩进，所以这些语句后面都有一个冒号。至于为什么这样子，我们又不是研究理论的。死记硬背就可以了。\n",
    "什么是一个block。每个语言里几乎都有有。就是一组语句。\n",
    "比如函数体，循环体，条件分支，类的定义等等都是一个block的概念"
   ]
  },
  {
   "cell_type": "markdown",
   "metadata": {},
   "source": [
    "# python dir()函数\n",
    "dir() 函数不带参数时，返回当前范围内的变量、方法和定义的类型列表；带参数时，返回参数的属性、方法列表。如果参数包含方法__dir__()，该方法将被调用。如果参数不包含__dir__()，该方法将最大限度地收集参数信息。"
   ]
  },
  {
   "cell_type": "markdown",
   "metadata": {},
   "source": [
    "dir([object]) #object 对象"
   ]
  },
  {
   "cell_type": "markdown",
   "metadata": {},
   "source": [
    "# help() 函数用于查看函数或模块用途的详细说明。"
   ]
  },
  {
   "cell_type": "code",
   "execution_count": null,
   "metadata": {},
   "outputs": [],
   "source": [
    "help('sys')"
   ]
  },
  {
   "cell_type": "code",
   "execution_count": 22,
   "metadata": {},
   "outputs": [],
   "source": [
    "# import 用于导入模块"
   ]
  },
  {
   "cell_type": "markdown",
   "metadata": {},
   "source": [
    "pep 是 Python Enhancement Proposal 的缩写，翻译过来就是 Python增强建议书 。"
   ]
  },
  {
   "cell_type": "markdown",
   "metadata": {},
   "source": [
    "1 分号"
   ]
  },
  {
   "cell_type": "code",
   "execution_count": null,
   "metadata": {},
   "outputs": [],
   "source": [
    "#不要在行尾加分号, 也不要用分号将两条命令放在同一行。"
   ]
  },
  {
   "cell_type": "markdown",
   "metadata": {},
   "source": [
    "2 行长度"
   ]
  },
  {
   "cell_type": "code",
   "execution_count": null,
   "metadata": {},
   "outputs": [],
   "source": [
    "\"\"\"\n",
    "每行不超过80个字符（长的导入模块语句和注释里的URL除外）\n",
    "不要使用反斜杠连接行。Python会将圆括号, 中括号和花括号中的行隐式的连接起来 \n",
    "\"\"\""
   ]
  },
  {
   "cell_type": "code",
   "execution_count": null,
   "metadata": {},
   "outputs": [],
   "source": [
    "#如果一个文本字符串在一行放不下, 可以使用圆括号来实现隐式行连接"
   ]
  },
  {
   "cell_type": "code",
   "execution_count": null,
   "metadata": {},
   "outputs": [],
   "source": [
    "x = ('这是一个非常长非常长非常长非常长 '\n",
    "     '非常长非常长非常长非常长非常长非常长的字符串')"
   ]
  },
  {
   "cell_type": "markdown",
   "metadata": {},
   "source": [
    "3 括号"
   ]
  },
  {
   "cell_type": "code",
   "execution_count": 25,
   "metadata": {},
   "outputs": [],
   "source": [
    "#宁缺毋滥的使用括号，除非是用于实现行连接, 否则不要在返回语句或条件语句中使用括号. 不过在元组两边使用括号是可以的."
   ]
  },
  {
   "cell_type": "markdown",
   "metadata": {},
   "source": [
    "4 缩进"
   ]
  },
  {
   "cell_type": "code",
   "execution_count": 28,
   "metadata": {},
   "outputs": [
    {
     "data": {
      "text/plain": [
       "'\\n用4个空格来缩进代码，不要用tab, 也不要tab和空格混用. \\n对于行连接的情况, 你应该要么垂直对齐换行的元素(见 :ref:行长度 <line_length> 部分的示例), \\n或者使用4空格的悬挂式缩进(这时第一行不应该有参数):\\n'"
      ]
     },
     "execution_count": 28,
     "metadata": {},
     "output_type": "execute_result"
    }
   ],
   "source": [
    "\"\"\"\n",
    "用4个空格来缩进代码，不要用tab, 也不要tab和空格混用. \n",
    "对于行连接的情况, 你应该要么垂直对齐换行的元素(见 :ref:行长度 <line_length> 部分的示例), \n",
    "或者使用4空格的悬挂式缩进(这时第一行不应该有参数):\n",
    "\"\"\""
   ]
  },
  {
   "cell_type": "markdown",
   "metadata": {},
   "source": [
    "5 空行"
   ]
  },
  {
   "cell_type": "code",
   "execution_count": null,
   "metadata": {},
   "outputs": [],
   "source": [
    "\"\"\"\n",
    "顶级定义之间空2行, 方法定义之间空1行，顶级定义之间空两行, 比如函数或者类定义. \n",
    "方法定义, 类定义与第一个方法之间, 都应该空一行. \n",
    "函数或方法中, 某些地方要是你觉得合适, 就空一行.\n",
    "\"\"\""
   ]
  },
  {
   "cell_type": "markdown",
   "metadata": {},
   "source": [
    "#标准数据类型"
   ]
  },
  {
   "cell_type": "code",
   "execution_count": 29,
   "metadata": {},
   "outputs": [
    {
     "data": {
      "text/plain": [
       "'\\nnumber(数字)\\nstring(字符串)\\nlist（列表）\\ntuple(元组)\\nset（集合）\\ndictionary（字典）\\n'"
      ]
     },
     "execution_count": 29,
     "metadata": {},
     "output_type": "execute_result"
    }
   ],
   "source": [
    "\"\"\"\n",
    "number(数字)\n",
    "string(字符串)\n",
    "list（列表）\n",
    "tuple(元组)\n",
    "set（集合）\n",
    "dictionary（字典）\n",
    "\"\"\""
   ]
  },
  {
   "cell_type": "code",
   "execution_count": null,
   "metadata": {},
   "outputs": [],
   "source": [
    "# 可变数据类型 dictionary字典，set 集合，list列表\n",
    "# 不可变数据类型  number 数值，字符串 string，元组 tuple"
   ]
  },
  {
   "cell_type": "code",
   "execution_count": 30,
   "metadata": {},
   "outputs": [],
   "source": [
    "# Python 算术运算符"
   ]
  },
  {
   "cell_type": "markdown",
   "metadata": {},
   "source": [
    "+ 两个元素相加\n",
    "- 一个元素减另外一个元素\n",
    "* 一个元素乘另外一个元素\n",
    "/ 除法\n",
    "% 返回除法的余数"
   ]
  },
  {
   "cell_type": "code",
   "execution_count": 31,
   "metadata": {},
   "outputs": [],
   "source": [
    "# Python 逻辑运算符"
   ]
  },
  {
   "cell_type": "code",
   "execution_count": null,
   "metadata": {},
   "outputs": [],
   "source": [
    "\"\"\"\n",
    "and: x and y 布尔\"与\" - 如果 x 为 False，x and y 返回 False，否则它返回 y 的计算值。\n",
    "or: x or y 布尔\"或\"\t- 如果 x 是非 0，它返回 x 的值，否则它返回 y 的计算值。\n",
    "not: 布尔\"非\" - 如果 x 为 True，返回 False 。如果 x 为 False，它返回 True\n",
    "\"\"\""
   ]
  },
  {
   "cell_type": "code",
   "execution_count": 32,
   "metadata": {},
   "outputs": [],
   "source": [
    "# 成员运算符"
   ]
  },
  {
   "cell_type": "code",
   "execution_count": 33,
   "metadata": {},
   "outputs": [
    {
     "data": {
      "text/plain": [
       "'\\nin 如果在指定的序列中找到值返回 True，否则返回 False。\\nnot in 如果在指定的序列中没有找到值返回 True，否则返回 False。\\n'"
      ]
     },
     "execution_count": 33,
     "metadata": {},
     "output_type": "execute_result"
    }
   ],
   "source": [
    "\"\"\"\n",
    "in 如果在指定的序列中找到值返回 True，否则返回 False。\n",
    "not in 如果在指定的序列中没有找到值返回 True，否则返回 False。\n",
    "\"\"\""
   ]
  },
  {
   "cell_type": "code",
   "execution_count": 34,
   "metadata": {},
   "outputs": [],
   "source": [
    "# python 身份运算符"
   ]
  },
  {
   "cell_type": "code",
   "execution_count": null,
   "metadata": {},
   "outputs": [],
   "source": [
    "\"\"\"\n",
    "is\n",
    "is 是判断两个标识符是不是引用自一个对象\n",
    "x is y, 类似 id(x) == id(y) , 如果引用的是同一个对象则返回 True，否则返回 False\n",
    "is not\n",
    "is not 是判断两个标识符是不是引用自不同对象\n",
    "x is not y ， 类似 id(a) != id(b)。如果引用的不是同一个对象则返回结果 True，否则返回 False。\n",
    "\"\"\""
   ]
  },
  {
   "cell_type": "code",
   "execution_count": 35,
   "metadata": {},
   "outputs": [],
   "source": [
    "# 运算符优先级 （优先级从高往低依次排列）"
   ]
  },
  {
   "cell_type": "code",
   "execution_count": 36,
   "metadata": {},
   "outputs": [
    {
     "data": {
      "text/plain": [
       "'\\n**  指数（最高优先级）\\n~ + - 按位翻转, 一元加号和减号 (最后两个的方法名为 +@ 和 -@)\\n* / % //  乘，除，取模和取整除\\n+- 加法减法\\n>> << 右移左移\\n& and\\n^ | 位运算符\\n<= < > >= 比较运算符\\n<> == != 等于运算符\\n= %= /= //= -= += *= **= 赋值运算符\\nis is not 身份运算符\\nis notin  成分运算符\\nnot and or 逻辑运算符\\n'"
      ]
     },
     "execution_count": 36,
     "metadata": {},
     "output_type": "execute_result"
    }
   ],
   "source": [
    "\"\"\"\n",
    "**  指数（最高优先级）\n",
    "~ + - 按位翻转, 一元加号和减号 (最后两个的方法名为 +@ 和 -@)\n",
    "* / % //  乘，除，取模和取整除\n",
    "+- 加法减法\n",
    ">> << 右移左移\n",
    "& and\n",
    "^ | 位运算符\n",
    "<= < > >= 比较运算符\n",
    "<> == != 等于运算符\n",
    "= %= /= //= -= += *= **= 赋值运算符\n",
    "is is not 身份运算符\n",
    "is notin  成分运算符\n",
    "not and or 逻辑运算符\n",
    "\"\"\""
   ]
  },
  {
   "cell_type": "markdown",
   "metadata": {},
   "source": [
    "# 字符串"
   ]
  },
  {
   "cell_type": "code",
   "execution_count": null,
   "metadata": {},
   "outputs": [],
   "source": [
    "\"\"\"\n",
    "字符串是 Python 中最常用的数据类型。我们可以使用引号( ' 或 \" )来创建字符串。\n",
    "创建字符串很简单，只要为变量分配一个值即可。例如：\n",
    "\"\"\""
   ]
  },
  {
   "cell_type": "code",
   "execution_count": 37,
   "metadata": {},
   "outputs": [],
   "source": [
    " #1 python 访问字符串中的值"
   ]
  },
  {
   "cell_type": "code",
   "execution_count": 38,
   "metadata": {},
   "outputs": [],
   "source": [
    "var1=\"hello world\""
   ]
  },
  {
   "cell_type": "code",
   "execution_count": 40,
   "metadata": {},
   "outputs": [
    {
     "name": "stdout",
     "output_type": "stream",
     "text": [
      "h\n"
     ]
    }
   ],
   "source": [
    "print(var1[0])"
   ]
  },
  {
   "cell_type": "code",
   "execution_count": null,
   "metadata": {},
   "outputs": [],
   "source": [
    "# 2 字符串的更新"
   ]
  },
  {
   "cell_type": "code",
   "execution_count": 41,
   "metadata": {},
   "outputs": [
    {
     "name": "stdout",
     "output_type": "stream",
     "text": [
      "已更新字符串 :  Hello Runoob!\n"
     ]
    }
   ],
   "source": [
    "var1 = 'Hello World!'\n",
    "print (\"已更新字符串 : \", var1[:6] + 'Runoob!')"
   ]
  },
  {
   "cell_type": "code",
   "execution_count": 42,
   "metadata": {},
   "outputs": [],
   "source": [
    "#Python字符串运算符 下表实例变量a值为字符串 \"Hello\"，b变量值为 \"Python\""
   ]
  },
  {
   "cell_type": "code",
   "execution_count": 43,
   "metadata": {},
   "outputs": [
    {
     "data": {
      "text/plain": [
       "\"\\n+ 字符串连接 a + b 输出结果： HelloPython\\n* 重复输出字符串 a*2 输出结果：HelloHello\\n[]  通过索引获取字符串中字符 a[1] 输出结果 e\\n[ : ] 截取字符串中的一部分，遵循左闭右开原则，str[0,2] 是不包含第 3 个字符的。 a[1:4] 输出结果 ell\\nin 成员运算符 - 如果字符串中包含给定的字符返回 True 'H' in a 输出结果 True\\nnot in 成员运算符 - 如果字符串中不包含给定的字符返回 True 'M' not in a 输出结果 True\\n\""
      ]
     },
     "execution_count": 43,
     "metadata": {},
     "output_type": "execute_result"
    }
   ],
   "source": [
    "\"\"\"\n",
    "+ 字符串连接 a + b 输出结果： HelloPython\n",
    "* 重复输出字符串 a*2 输出结果：HelloHello\n",
    "[]  通过索引获取字符串中字符 a[1] 输出结果 e\n",
    "[ : ] 截取字符串中的一部分，遵循左闭右开原则，str[0,2] 是不包含第 3 个字符的。 a[1:4] 输出结果 ell\n",
    "in 成员运算符 - 如果字符串中包含给定的字符返回 True 'H' in a 输出结果 True\n",
    "not in 成员运算符 - 如果字符串中不包含给定的字符返回 True 'M' not in a 输出结果 True\n",
    "\"\"\""
   ]
  },
  {
   "cell_type": "code",
   "execution_count": null,
   "metadata": {},
   "outputs": [],
   "source": [
    "# Python字符串格式化"
   ]
  },
  {
   "cell_type": "code",
   "execution_count": null,
   "metadata": {},
   "outputs": [],
   "source": [
    "\"\"\"\n",
    "python 字符串格式化 Python 支持格式化字符串的输出 。\n",
    "尽管这样可能会用到非常复杂的表达式，但最基本的用法是将一个值插入到一个有字符串格式符 %s 的字符串中。\n",
    "在 Python 中，字符串格式化使用与 C 中 sprintf 函数一样的语法\n",
    "\"\"\""
   ]
  },
  {
   "cell_type": "code",
   "execution_count": 45,
   "metadata": {},
   "outputs": [
    {
     "name": "stdout",
     "output_type": "stream",
     "text": [
      "我叫 小明 今年 10 岁!\n"
     ]
    }
   ],
   "source": [
    "print (\"我叫 %s 今年 %d 岁!\" % ('小明', 10))"
   ]
  },
  {
   "cell_type": "code",
   "execution_count": null,
   "metadata": {},
   "outputs": [],
   "source": [
    "#1.26 第一次作业\n",
    "name=input(\"请输入您的姓名:\")\n",
    "sex=input(\"请输入您的性别:\")\n",
    "age=input(\"请输入您的年龄:\")\n",
    "age=int(age)\n",
    "year=2019-age\n",
    "message=\"您的姓名是：%s，您的性别是：%s，您是%d年出生的。\"%(name,sex,year)\n",
    "print(message)\n",
    "运行结果：\n",
    "请输入您的姓名姓名:小小白\n",
    "请输入您的性别:女\n",
    "请输入您的年龄:20\n",
    "您的姓名是：小小白，您的性别是：女，您是1999年出生的。\n"
   ]
  },
  {
   "cell_type": "code",
   "execution_count": null,
   "metadata": {},
   "outputs": [],
   "source": []
  },
  {
   "cell_type": "code",
   "execution_count": null,
   "metadata": {},
   "outputs": [],
   "source": []
  },
  {
   "cell_type": "code",
   "execution_count": null,
   "metadata": {},
   "outputs": [],
   "source": []
  },
  {
   "cell_type": "code",
   "execution_count": null,
   "metadata": {},
   "outputs": [],
   "source": []
  },
  {
   "cell_type": "code",
   "execution_count": null,
   "metadata": {},
   "outputs": [],
   "source": []
  }
 ],
 "metadata": {
  "kernelspec": {
   "display_name": "Python 3",
   "language": "python",
   "name": "python3"
  },
  "language_info": {
   "codemirror_mode": {
    "name": "ipython",
    "version": 3
   },
   "file_extension": ".py",
   "mimetype": "text/x-python",
   "name": "python",
   "nbconvert_exporter": "python",
   "pygments_lexer": "ipython3",
   "version": "3.7.1"
  }
 },
 "nbformat": 4,
 "nbformat_minor": 2
}
