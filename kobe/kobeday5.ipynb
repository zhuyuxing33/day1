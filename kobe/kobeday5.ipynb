{
 "cells": [
  {
   "cell_type": "code",
   "execution_count": null,
   "metadata": {},
   "outputs": [],
   "source": [
    "【Day 5】\n",
    "正则表达式re\n",
    "os模块\n",
    "datetime模块\n",
    "http请求\n",
    "--------------------------------------\n",
    "【作业构想】\n",
    "请用户输入一个时间，输出选项所对应的现在时间，告诉用户这两个时间相隔的天数，小时数，分钟数和秒数。\n",
    "请用户输入电话及邮箱，判断用户输入是否合法。\n",
    "对http://www.baidu.com 进行请求，并用正则化匹配图片内容。将百度图标爬取下来保存至本地\n",
    "-------------------------------------\n",
    "【作业提交时间】\n",
    "2019年1月30日24：00\n",
    "注意：未完成者将会被清退\n",
    "------------------------------------\n",
    "【点评】\n",
    "完成时间：2019年1月31日12：00\n",
    "注意：未完成竟会被清退"
   ]
  },
  {
   "cell_type": "code",
   "execution_count": null,
   "metadata": {},
   "outputs": [],
   "source": [
    "# Python3正则表达式"
   ]
  },
  {
   "cell_type": "code",
   "execution_count": null,
   "metadata": {},
   "outputs": [],
   "source": [
    "#1 正则表达式 - 语法"
   ]
  },
  {
   "cell_type": "code",
   "execution_count": null,
   "metadata": {},
   "outputs": [],
   "source": [
    "# 正则表达式(regular expression)描述了一种字符串匹配的模式（pattern），\n",
    "#可以用来检查一个串是否含有某种子串、将匹配的子串替换或者从某个串中取出符合某个条件的子串等"
   ]
  },
  {
   "cell_type": "code",
   "execution_count": null,
   "metadata": {},
   "outputs": [],
   "source": [
    "runoo+b，可以匹配 runoob、runooob、runoooooob 等，+ 号代表前面的字符必须至少出现一次（1次或多次）。\n",
    "runoo*b，可以匹配 runob、runoob、runoooooob 等，* 号代表字符可以不出现，也可以出现一次或者多次（0次、或1次、或多次）。\n",
    "colou?r 可以匹配 color 或者 colour，? 问号代表前面的字符最多只可以出现一次（0次、或1次）"
   ]
  },
  {
   "cell_type": "markdown",
   "metadata": {},
   "source": [
    "普通字符\n",
    "普通字符包括没有显式指定为元字符的所有可打印和不可打印字符。这包括所有大写和小写字母、所有数字、所有标点符号和一些其他符号。\n",
    "\n"
   ]
  },
  {
   "cell_type": "code",
   "execution_count": null,
   "metadata": {},
   "outputs": [],
   "source": [
    "# 非打印字符"
   ]
  },
  {
   "cell_type": "code",
   "execution_count": null,
   "metadata": {},
   "outputs": [],
   "source": [
    "\n",
    "\\cx   匹配由x指明的控制字符。例如， \\cM 匹配一个 Control-M 或回车符。x 的值必须为 A-Z 或 a-z 之一。否则，将 c 视为一个原义的 'c' 字符。\n",
    "\\f    匹配一个换页符。等价于 \\x0c 和 \\cL\n",
    "\\n    匹配一个换行符。等价于 \\x0a 和 \\cJ。\n",
    "\\r  匹配一个回车符\n",
    "\\s  匹配任何空白字符包括空格、制表符、换页符等等"
   ]
  },
  {
   "cell_type": "code",
   "execution_count": 1,
   "metadata": {},
   "outputs": [],
   "source": [
    "# 特殊字符"
   ]
  },
  {
   "cell_type": "code",
   "execution_count": null,
   "metadata": {},
   "outputs": [],
   "source": [
    "'''\n",
    "所谓特殊字符，就是一些有特殊含义的字符，如上面说的 runoo*b 中的 *，简单的说就是表示任何字符串的意思。\n",
    "如果要查找字符串中的 * 符号，则需要对 * 进行转义，即在其前加一个 \\: runo\\*ob 匹配 runo*ob。\n",
    "许多元字符要求在试图匹配它们时特别对待。若要匹配这些特殊字符，必须首先使字符\"转义\"，即，将反斜杠字符\\ 放在它们前面。\n",
    "下表列出了正则表达式中的特殊字符：\n",
    "'''"
   ]
  },
  {
   "cell_type": "code",
   "execution_count": null,
   "metadata": {},
   "outputs": [],
   "source": [
    "# re.match函数"
   ]
  },
  {
   "cell_type": "code",
   "execution_count": null,
   "metadata": {},
   "outputs": [],
   "source": [
    "'''\n",
    "re.match 尝试从字符串的起始位置匹配一个模式，如果不是起始位置匹配成功的话，match()就返回none。\n",
    "函数语法：\n",
    "re.match(pattern, string, flags=0)\n",
    "'''"
   ]
  },
  {
   "cell_type": "code",
   "execution_count": null,
   "metadata": {},
   "outputs": [],
   "source": [
    "# 参数及其表达\n",
    "参数\t描述\n",
    "pattern\t匹配的正则表达式\n",
    "string\t要匹配的字符串。\n",
    "flags\t标志位，用于控制正则表达式的匹配方式，如：是否区分大小写，多行匹配等等。参见：正则表达式修饰符 - 可选标志"
   ]
  },
  {
   "cell_type": "code",
   "execution_count": 1,
   "metadata": {},
   "outputs": [
    {
     "name": "stdout",
     "output_type": "stream",
     "text": [
      "(0, 3)\n",
      "None\n"
     ]
    }
   ],
   "source": [
    "import re\n",
    "print(re.match('www', 'www.runoob.com').span())  # 在起始位置匹配\n",
    "print(re.match('com', 'www.runoob.com'))         # 不在起始位置匹配"
   ]
  },
  {
   "cell_type": "code",
   "execution_count": 8,
   "metadata": {},
   "outputs": [
    {
     "ename": "SyntaxError",
     "evalue": "invalid character in identifier (<ipython-input-8-6bd8b1bd211c>, line 9)",
     "output_type": "error",
     "traceback": [
      "\u001b[1;36m  File \u001b[1;32m\"<ipython-input-8-6bd8b1bd211c>\"\u001b[1;36m, line \u001b[1;32m9\u001b[0m\n\u001b[1;33m    print （\"matchObj.group() : \", matchObj.group()）\u001b[0m\n\u001b[1;37m          ^\u001b[0m\n\u001b[1;31mSyntaxError\u001b[0m\u001b[1;31m:\u001b[0m invalid character in identifier\n"
     ]
    }
   ],
   "source": [
    "#!/usr/bin/python\n",
    "import re\n",
    " \n",
    "line = \"Cats are smarter than dogs\"\n",
    " \n",
    "matchObj = re.match( r'(.*) are (.*?) .*', line, re.M|re.I)\n",
    " \n",
    "if matchObj:\n",
    "   print （\"matchObj.group() : \", matchObj.group()）\n",
    "   print（ \"matchObj.group(1) : \", matchObj.group(1)）\n",
    "   print（\"matchObj.group(2) : \", matchObj.group(2)）\n",
    "else:\n",
    "   print （\"No match!!\"）"
   ]
  },
  {
   "cell_type": "code",
   "execution_count": null,
   "metadata": {},
   "outputs": [],
   "source": [
    "re.search方法"
   ]
  },
  {
   "cell_type": "code",
   "execution_count": null,
   "metadata": {},
   "outputs": [],
   "source": [
    "e.search 扫描整个字符串并返回第一个成功的匹配。\n",
    "函数语法：\n",
    "re.search(pattern, string, flags=0"
   ]
  },
  {
   "cell_type": "code",
   "execution_count": null,
   "metadata": {},
   "outputs": [],
   "source": [
    "\n",
    "函数参数说明：\n",
    "参数\t描述\n",
    "pattern\t匹配的正则表达式\n",
    "string\t要匹配的字符串。\n",
    "flags\t标志位，用于控制正则表达式的匹配方式，如：是否区分大小写，多行匹配等等。"
   ]
  },
  {
   "cell_type": "code",
   "execution_count": 9,
   "metadata": {},
   "outputs": [
    {
     "name": "stdout",
     "output_type": "stream",
     "text": [
      "(0, 3)\n",
      "(11, 14)\n"
     ]
    }
   ],
   "source": [
    "import re\n",
    "print(re.search('www', 'www.runoob.com').span())  # 在起始位置匹配\n",
    "print(re.search('com', 'www.runoob.com').span())         # 不在起始位置匹配"
   ]
  },
  {
   "cell_type": "code",
   "execution_count": 11,
   "metadata": {},
   "outputs": [
    {
     "name": "stdout",
     "output_type": "stream",
     "text": [
      "searchObj.group() :  Cats are smarter than dogs\n",
      "searchObj.group(1) :  Cats\n",
      "searchObj.group(2) :  smarter\n"
     ]
    }
   ],
   "source": [
    "#!/usr/bin/python\n",
    "import re\n",
    " \n",
    "line = \"Cats are smarter than dogs\";\n",
    " \n",
    "searchObj = re.search( r'(.*) are (.*?) .*', line, re.M|re.I)\n",
    " \n",
    "if searchObj:\n",
    "   print (\"searchObj.group() : \", searchObj.group())\n",
    "   print (\"searchObj.group(1) : \", searchObj.group(1))\n",
    "   print (\"searchObj.group(2) : \", searchObj.group(2))\n",
    "else:\n",
    "   print (\"Nothing found!!\")"
   ]
  },
  {
   "cell_type": "code",
   "execution_count": null,
   "metadata": {},
   "outputs": [],
   "source": [
    "#re.match与re.search的区别\n",
    "#re.match只匹配字符串的开始，如果字符串开始不符合正则表达式，则匹配失败，函数返回None；而re.search匹配整个字符串，直到找到一个匹配。"
   ]
  },
  {
   "cell_type": "code",
   "execution_count": 14,
   "metadata": {},
   "outputs": [
    {
     "name": "stdout",
     "output_type": "stream",
     "text": [
      "No match!!\n",
      "search --> matchObj.group() :  dogs\n"
     ]
    }
   ],
   "source": [
    "import re\n",
    " \n",
    "line = \"Cats are smarter than dogs\";\n",
    " \n",
    "matchObj = re.match( r'dogs', line, re.M|re.I)\n",
    "if matchObj:\n",
    "   print( \"match --> matchObj.group() : \", matchObj.group())\n",
    "else:\n",
    "   print (\"No match!!\")\n",
    " \n",
    "matchObj = re.search( r'dogs', line, re.M|re.I)\n",
    "if matchObj:\n",
    "   print (\"search --> matchObj.group() : \", matchObj.group())\n",
    "else:\n",
    "   print (\"No match!!\")"
   ]
  },
  {
   "cell_type": "code",
   "execution_count": null,
   "metadata": {},
   "outputs": [],
   "source": [
    "# os 模块提供了非常丰富的方法用来处理文件和目录。常用的方法如下表所示"
   ]
  },
  {
   "cell_type": "code",
   "execution_count": null,
   "metadata": {},
   "outputs": [],
   "source": [
    "1\t\n",
    "os.access(path, mode)\n",
    "\n",
    "检验权限模式\n",
    "2\t\n",
    "os.chdir(path)\n",
    "\n",
    "改变当前工作目录\n",
    "3\t\n",
    "os.chflags(path, flags)\n",
    "\n",
    "设置路径的标记为数字标记。\n",
    "4\t\n",
    "os.chmod(path, mode)\n",
    "\n",
    "更改权限\n",
    "5\t\n",
    "os.chown(path, uid, gid)\n",
    "\n",
    "更改文件所有者\n",
    "6\t\n",
    "os.chroot(path)\n",
    "\n",
    "改变当前进程的根目录\n",
    "7\t\n",
    "os.close(fd)\n",
    "\n",
    "关闭文件描述符 fd\n",
    "8\t\n",
    "os.closerange(fd_low, fd_high)\n",
    "\n",
    "关闭所有文件描述符，从 fd_low (包含) 到 fd_high (不包含), 错误会忽略\n",
    "9\t\n",
    "os.dup(fd)\n",
    "\n",
    "复制文件描述符 fd\n",
    "10\t\n",
    "os.dup2(fd, fd2)\n",
    "\n",
    "将一个文件描述符 fd 复制到另一个 fd2\n",
    "11\t\n",
    "os.fchdir(fd)\n",
    "\n",
    "通过文件描述符改变当前工作目录\n",
    "12\t\n",
    "os.fchmod(fd, mode)\n",
    "\n",
    "改变一个文件的访问权限，该文件由参数fd指定，参数mode是Unix下的文件访问权限。\n",
    "13\t\n",
    "os.fchown(fd, uid, gid)\n",
    "\n",
    "修改一个文件的所有权，这个函数修改一个文件的用户ID和用户组ID，该文件由文件描述符fd指定。\n",
    "14\t\n",
    "os.fdatasync(fd)\n",
    "\n",
    "强制将文件写入磁盘，该文件由文件描述符fd指定，但是不强制更新文件的状态信息。\n",
    "15\t\n",
    "os.fdopen(fd[, mode[, bufsize]])\n",
    "\n",
    "通过文件描述符 fd 创建一个文件对象，并返回这个文件对象\n",
    "16\t\n",
    "os.fpathconf(fd, name)\n",
    "\n",
    "返回一个打开的文件的系统配置信息。name为检索的系统配置的值，它也许是一个定义系统值的字符串，这些名字在很多标准中指定（POSIX.1, Unix 95, Unix 98, 和其它）。\n",
    "17\t\n",
    "os.fstat(fd)\n",
    "\n",
    "返回文件描述符fd的状态，像stat()。\n",
    "18\t\n",
    "os.fstatvfs(fd)\n",
    "\n",
    "返回包含文件描述符fd的文件的文件系统的信息，像 statvfs()\n",
    "19\t\n",
    "os.fsync(fd)\n",
    "\n",
    "强制将文件描述符为fd的文件写入硬盘。\n",
    "20\t\n",
    "os.ftruncate(fd, length)\n",
    "\n",
    "裁剪文件描述符fd对应的文件, 所以它最大不能超过文件大小。"
   ]
  },
  {
   "cell_type": "code",
   "execution_count": null,
   "metadata": {},
   "outputs": [],
   "source": [
    " # datetime 模块"
   ]
  },
  {
   "cell_type": "code",
   "execution_count": null,
   "metadata": {},
   "outputs": [],
   "source": [
    "'''\n",
    "datetime模块　\n",
    "atetime模块通常用来操作日期信息（年月日和时分秒），常用的方法有：\n",
    "\n",
    "datetime.datetime.now()：返回当前日期时间的datetime对象，对象中包含年月日和时分秒信息，可通过str它来得到日期时间信息的字符串。\n",
    "datetime.datetime.fromtimestamp(timestamp）：将时间戳转换成datetime对象，并返回。\n",
    "datetime.datetime.strptime(date_string, format)：将字符串按照指定格式转成datetime对象，并返回，如：datetime.datetime.strptime('2016-09-04', '%Y-%m-%d')。\n",
    "datetime.datetime.strftime(datetime, format)：将datetime对象转换为指定格式的字符串，并返回，如：datetime.datetime.strftime(datetime.datetime.now(), '%Y-%m-%d %H:%M:%S')。\n",
    "datetime.timedelta：timedelta对象初始化时指定日期时间信息，可用它与datetime对象进行加减操作，并返回新的datetime对象，当然timedelta对象之间也可以进行加减操作，返回新的timedelta对象。\n",
    "timetuple()：将datetime对象转换成struct_time对象，并返回。\n",
    "''''"
   ]
  },
  {
   "cell_type": "code",
   "execution_count": null,
   "metadata": {},
   "outputs": [],
   "source": [
    " datetime.datetime.fromtimestamp(time.time())\n",
    "datetime.datetime(2018, 8, 9, 1, 2, 51, 546000)\n",
    ">>> # strptime()方法，将字符串按照指定格式转成datetime对象\n",
    ">>> datetime.datetime.strptime('2016-09-04', '%Y-%m-%d')\n",
    "datetime.datetime(2016, 9, 4, 0, 0)\n",
    ">>> # strftime()方法，将datetime对象转换为指定格式的字符串，并返回\n",
    ">>> datetime.datetime.strftime(datetime.datetime.now(), '%Y-%m-%d %H:%M:%S')\n",
    "'2018-08-09 01:18:10'\n",
    ">>> # timedelta对象，可用于日期时间信息的加减操作\n",
    ">>> timedelta_hour = datetime.timedelta(hours=4)\n",
    ">>> timedelta_day = datetime.timedelta(days=8)\n",
    ">>> timedelta_new = timedelta_hour + timedelta_day\n",
    ">>> timedelta_hour\n",
    "datetime.timedelta(0, 14400)\n",
    ">>> timedelta_day\n",
    "datetime.timedelta(8)\n",
    ">>> timedelta_new\n",
    "datetime.timedelta(8, 14400)\n",
    ">>> datetime.datetime.now()\n",
    "datetime.datetime(2018, 8, 9, 1, 30, 0, 593000)\n",
    ">>> datetime_new = datetime.datetime.now() + timedelta_new\n",
    ">>> datetime_new\n",
    "datetime.datetime(2018, 8, 17, 5, 30, 1, 70000)\n",
    ">>> # timetuple()方法，将datetime对象转换成struct_time对象\n",
    ">>> now_datetime = datetime.datetime.now()\n",
    ">>> now_datetime.timetuple()\n",
    "time.struct_time(tm_year=2018, tm_mon=8, tm_mday=9, tm_hour=2, tm_min=5, tm_sec=50, tm_wday=3, tm_yday=221, tm_isdst=-1)"
   ]
  },
  {
   "cell_type": "code",
   "execution_count": null,
   "metadata": {},
   "outputs": [],
   "source": [
    "# python中http请求方法有很多种，现汇总如下："
   ]
  },
  {
   "cell_type": "code",
   "execution_count": null,
   "metadata": {},
   "outputs": [],
   "source": [
    "#python自带库urllib2使用的比较多，简单使用如下："
   ]
  },
  {
   "cell_type": "code",
   "execution_count": null,
   "metadata": {},
   "outputs": [],
   "source": [
    "import urllib2\n",
    "import urllib\n",
    "post_data = urllib.urlencode({})\n",
    "response = urllib2.urlopen('http://localhost:8080/, post_data)\n",
    "print response.read()\n",
    "print response.getheaders()"
   ]
  },
  {
   "cell_type": "code",
   "execution_count": null,
   "metadata": {},
   "outputs": [],
   "source": [
    "#二、python自带库--httplib"
   ]
  },
  {
   "cell_type": "markdown",
   "metadata": {},
   "source": [
    "import httplib\n",
    "conn = httplib.HTTPConnection(\"www.python.org\")\n",
    "conn.request(\"GET\", \"/index.html\")\n",
    "r1 = conn.getresponse()\n",
    "print (r1.status, r1.reason)\n",
    "data1 = r1.read()\n",
    "conn.request(\"GET\", \"/parrot.spam\")\n",
    "r2 = conn.getresponse()\n",
    "data2 = r2.read()\n",
    "conn.close()"
   ]
  },
  {
   "cell_type": "code",
   "execution_count": null,
   "metadata": {},
   "outputs": [],
   "source": [
    "#简单的get请求\n",
    "\n",
    "#我们再来看post请求"
   ]
  },
  {
   "cell_type": "code",
   "execution_count": null,
   "metadata": {},
   "outputs": [],
   "source": [
    "import httplib, urllib\n",
    "params = urllib.urlencode({'@number': 12524, '@type': 'issue', '@action': 'show'})\n",
    "headers = {\"Content-type\": \"application/x-www-form-urlencoded\",  \"Accept\": \"text/plain\"}\n",
    "\n",
    "conn = httplib.HTTPConnection(\"bugs.python.org\")\n",
    "conn.request(\"POST\", \"\", params, headers)\n",
    "response = conn.getresponse()\n",
    "data = response.read()\n",
    "print data\n",
    "conn.close()"
   ]
  },
  {
   "cell_type": "markdown",
   "metadata": {},
   "source": [
    "# 作业不会写"
   ]
  },
  {
   "cell_type": "code",
   "execution_count": null,
   "metadata": {},
   "outputs": [],
   "source": []
  },
  {
   "cell_type": "code",
   "execution_count": null,
   "metadata": {},
   "outputs": [],
   "source": []
  },
  {
   "cell_type": "code",
   "execution_count": null,
   "metadata": {},
   "outputs": [],
   "source": []
  },
  {
   "cell_type": "code",
   "execution_count": null,
   "metadata": {},
   "outputs": [],
   "source": []
  },
  {
   "cell_type": "code",
   "execution_count": null,
   "metadata": {},
   "outputs": [],
   "source": []
  },
  {
   "cell_type": "code",
   "execution_count": null,
   "metadata": {},
   "outputs": [],
   "source": []
  },
  {
   "cell_type": "code",
   "execution_count": null,
   "metadata": {},
   "outputs": [],
   "source": []
  },
  {
   "cell_type": "code",
   "execution_count": null,
   "metadata": {},
   "outputs": [],
   "source": []
  },
  {
   "cell_type": "code",
   "execution_count": null,
   "metadata": {},
   "outputs": [],
   "source": []
  },
  {
   "cell_type": "code",
   "execution_count": null,
   "metadata": {},
   "outputs": [],
   "source": []
  },
  {
   "cell_type": "code",
   "execution_count": null,
   "metadata": {},
   "outputs": [],
   "source": []
  }
 ],
 "metadata": {
  "kernelspec": {
   "display_name": "Python 3",
   "language": "python",
   "name": "python3"
  },
  "language_info": {
   "codemirror_mode": {
    "name": "ipython",
    "version": 3
   },
   "file_extension": ".py",
   "mimetype": "text/x-python",
   "name": "python",
   "nbconvert_exporter": "python",
   "pygments_lexer": "ipython3",
   "version": "3.7.1"
  }
 },
 "nbformat": 4,
 "nbformat_minor": 2
}
